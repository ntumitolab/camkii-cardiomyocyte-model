{
 "cells": [
  {
   "cell_type": "markdown",
   "source": [
    "# Caffeine Effects\n",
    "Caffeine increase RyR opening sensitivity to luminal and subspace calcium\n",
    "In this model, we decrease the mid saturation sub-SR calcium concentration for the opening rate"
   ],
   "metadata": {}
  },
  {
   "outputs": [],
   "cell_type": "code",
   "source": [
    "using ModelingToolkit\n",
    "using OrdinaryDiffEq, SteadyStateDiffEq, DiffEqCallbacks\n",
    "using Plots\n",
    "using CSV\n",
    "using DataFrames\n",
    "using Dates\n",
    "using CaMKIIModel\n",
    "using CaMKIIModel: second\n",
    "Plots.default(lw=1.5)"
   ],
   "metadata": {},
   "execution_count": null
  },
  {
   "outputs": [],
   "cell_type": "code",
   "source": [
    "sys = build_neonatal_ecc_sys(simplify=true, reduce_iso=true, reduce_camk=true)\n",
    "tend = 500second\n",
    "prob = ODEProblem(sys, [], tend)\n",
    "stimstart = 100second\n",
    "stimend = 300second\n",
    "alg = KenCarp47()\n",
    "function add_coffee_affect!(integrator)\n",
    "    integrator.ps[sys.RyRsensitivity] = 10\n",
    "end\n",
    "\n",
    "@unpack Istim = sys\n",
    "callback = build_stim_callbacks(Istim, stimend; period=1second, starttime=stimstart)"
   ],
   "metadata": {},
   "execution_count": null
  },
  {
   "cell_type": "markdown",
   "source": [
    "Add caffeine at t = 200 econd"
   ],
   "metadata": {}
  },
  {
   "outputs": [],
   "cell_type": "code",
   "source": [
    "callback_caf = CallbackSet(build_stim_callbacks(Istim, stimend; period=1second, starttime=stimstart), PresetTimeCallback(200.0second, add_coffee_affect!))"
   ],
   "metadata": {},
   "execution_count": null
  },
  {
   "outputs": [],
   "cell_type": "code",
   "source": [
    "@time sol = solve(prob, alg; callback)\n",
    "@time sol_caf = solve(prob, alg; callback=callback_caf)"
   ],
   "metadata": {},
   "execution_count": null
  },
  {
   "outputs": [],
   "cell_type": "code",
   "source": [
    "i = (sys.t / 1000, sys.vm)\n",
    "plot(sol, idxs=i, title=\"Action potential\", lab=\"Ctl\", tspan=(198second, 205second))\n",
    "plot!(sol_caf, idxs=i, lab=\"Caf\", tspan=(198second, 205second), ylabel=\"Voltage (mV)\", xlabel=\"Time (s)\")"
   ],
   "metadata": {},
   "execution_count": null
  },
  {
   "outputs": [],
   "cell_type": "code",
   "source": [
    "i = (sys.t / 1000, sys.Cai_sub_SR * 1000)\n",
    "plot(sol, idxs=i, title=\"Calcium transient (During caffeine addition)\", lab=\"Ctl\", tspan=(198second, 205second))\n",
    "plot!(sol_caf, idxs=i, tspan=(198second, 205second), lab=\"Caf\", ylabel=\"Subspace calcium (nM)\", xlabel=\"Time (s)\")"
   ],
   "metadata": {},
   "execution_count": null
  },
  {
   "outputs": [],
   "cell_type": "code",
   "source": [
    "i = (sys.t / 1000, sys.PO1RyR)\n",
    "plot(sol, idxs=i, title=\"RyR open (During caffeine addition)\", lab=\"Ctl\", tspan=(198second, 205second))\n",
    "plot!(sol_caf, idxs=i, tspan=(198second, 205second), lab=\"Caf\", ylabel=\"Open probability\", ylims=(0, 1), xlabel=\"Time (s)\")"
   ],
   "metadata": {},
   "execution_count": null
  },
  {
   "outputs": [],
   "cell_type": "code",
   "source": [
    "i = (sys.t / 1000, sys.Cai_sub_SR * 1000)\n",
    "plot(sol, idxs=i, title=\"Calcium transient (After caffeine addition)\", lab=\"Ctl\", ylabel=\"Subspace calcium (nM)\", tspan=(198second, 205second))\n",
    "plot!(sol_caf, idxs=i, lab=\"Caf\", xlabel=\"Time (s)\", tspan=(198second, 205second))"
   ],
   "metadata": {},
   "execution_count": null
  },
  {
   "outputs": [],
   "cell_type": "code",
   "source": [
    "i = (sys.t / 1000, sys.CaJSR)\n",
    "plot(sol, idxs=i, title=\"SR Calcium (During caffeine addition)\", lab=\"Ctl\", ylabel=\"SR calcium (μM)\", tspan=(198second, 205second))\n",
    "plot!(sol_caf, idxs=i, tspan=(198second, 205second), lab=\"Caf\", ylims=(0, 850), xlabel=\"Time (s)\")"
   ],
   "metadata": {},
   "execution_count": null
  },
  {
   "outputs": [],
   "cell_type": "code",
   "source": [
    "i = (sys.t / 1000, sys.Jrel)\n",
    "plot(sol, idxs=sys.Jrel, title=\"Ca flux\", lab=\"Ctl  (Jrel)\", tspan=(198second, 205second))\n",
    "plot!(sol_caf, idxs=sys.Jrel, lab=\"Caf (Jrel)\", tspan=(198second, 205second), ylabel=\"μM/ms\", xlabel=\"Time (s)\")"
   ],
   "metadata": {},
   "execution_count": null
  },
  {
   "outputs": [],
   "cell_type": "code",
   "source": [
    "i = (sys.t / 1000, sys.CaMKAct * 100)\n",
    "plot(sol, idxs=i, title=\"Active CaMKII\", lab=\"Ctl\")\n",
    "plot!(sol_caf, idxs=i, lab=\"Caf\", ylabel=\"CaMKII activity (%)\", xlabel=\"Time (s)\")"
   ],
   "metadata": {},
   "execution_count": null
  },
  {
   "cell_type": "markdown",
   "source": [
    "## Simulation vs experimental data\n",
    "Add caffeine in the beginning of the simulation\n",
    "Add caffeine and nifedipine in the beginning of the simulation (nifedipine blocks 90% of L-type calcium channel)"
   ],
   "metadata": {}
  },
  {
   "outputs": [],
   "cell_type": "code",
   "source": [
    "sys = build_neonatal_ecc_sys(simplify=true, reduce_iso=true, reduce_camk=true)\n",
    "tend = 205second\n",
    "stimstart = 30second\n",
    "stimend = 120second\n",
    "alg = KenCarp47()\n",
    "@unpack Istim = sys\n",
    "callback = build_stim_callbacks(Istim, stimend; period=1second, starttime=stimstart)\n",
    "\n",
    "prob = ODEProblem(sys, [], tend)\n",
    "prob_caf = ODEProblem(sys, [sys.RyRsensitivity => 10], tend)\n",
    "gCaL = prob.ps[sys.GCaL]\n",
    "prob_nif_caf = ODEProblem(sys, [sys.RyRsensitivity => 10, sys.GCaL => 0.1 * gCaL], tend)\n",
    "\n",
    "ssalg = DynamicSS(alg)\n",
    "sprob_caf = SteadyStateProblem(prob_caf)\n",
    "sssol = solve(sprob_caf, ssalg; abstol=1e-10, reltol=1e-10)\n",
    "\n",
    "@time sol = solve(prob, alg; callback)\n",
    "@time sol_caf = solve(remake(prob_caf, u0=sssol.u), alg; callback)\n",
    "@time sol_nif_caf = solve(remake(prob_nif_caf, u0=sssol.u), alg; callback)"
   ],
   "metadata": {},
   "execution_count": null
  },
  {
   "outputs": [],
   "cell_type": "code",
   "source": [
    "i = (sys.t / 1000, sys.vm)\n",
    "tspan = (100second, 102second)\n",
    "plot(sol, idxs=i, title=\"Action potential\", lab=\"Ctl\"; tspan)\n",
    "plot!(sol_caf, idxs=i, lab=\"Caf\"; tspan)\n",
    "plot!(sol_nif_caf, idxs=i, lab=\"Caf + Nif\", tspan=tspan, ylabel=\"Voltage (mV)\", xlabel=\"Time (s)\")"
   ],
   "metadata": {},
   "execution_count": null
  },
  {
   "outputs": [],
   "cell_type": "code",
   "source": [
    "savefig(\"caf-ap.pdf\")\n",
    "savefig(\"caf-ap.png\")"
   ],
   "metadata": {},
   "execution_count": null
  },
  {
   "outputs": [],
   "cell_type": "code",
   "source": [
    "i = (sys.t / 1000, sys.Cai_sub_SR * 1000)\n",
    "tspan = (100second, 102second)\n",
    "plot(sol, idxs=i, title=\"Calcium transient\", lab=\"Ctl\"; tspan)\n",
    "plot!(sol_caf, idxs=i, lab=\"Caf\"; tspan)\n",
    "plot!(sol_nif_caf, idxs=i, lab=\"Caf + Nif\", ylabel=\"Subspace calcium (nM)\", xlabel=\"Time (s)\"; tspan)\n",
    "\n",
    "savefig(\"caf-cat.pdf\")\n",
    "savefig(\"caf-cat.png\")"
   ],
   "metadata": {},
   "execution_count": null
  },
  {
   "outputs": [],
   "cell_type": "code",
   "source": [
    "i = (sys.t / 1000, sys.CaJSR)\n",
    "tspan = (100second, 102second)\n",
    "plot(sol, idxs=i, title=\"SR Calcium\", lab=\"Ctl\", ylabel=\"SR calcium (μM)\"; tspan)\n",
    "plot!(sol_caf, idxs=i, lab=\"Caf\"; tspan)\n",
    "plot!(sol_nif_caf, idxs=i, lab=\"Caf + Nif\", ylims=(0, 850), xlabel=\"Time (s)\"; tspan)"
   ],
   "metadata": {},
   "execution_count": null
  },
  {
   "outputs": [],
   "cell_type": "code",
   "source": [
    "i = (sys.t / 1000, sys.CaMKAct * 100)\n",
    "plot(sol, idxs=i, title=\"Simulation\", lab=\"Ctl\")\n",
    "plot!(sol_caf, idxs=i, lab=\"Caf\")\n",
    "plot!(sol_nif_caf, idxs=i, lab=\"Caf + Nif\", ylabel=\"CaMKII active fraction (%)\", xlabel=\"Time (s)\")"
   ],
   "metadata": {},
   "execution_count": null
  },
  {
   "outputs": [],
   "cell_type": "code",
   "source": [
    "savefig(\"caf-camkact.pdf\")\n",
    "savefig(\"caf-camkact.png\")"
   ],
   "metadata": {},
   "execution_count": null
  },
  {
   "cell_type": "markdown",
   "source": [
    "experiments"
   ],
   "metadata": {}
  },
  {
   "outputs": [],
   "cell_type": "code",
   "source": [
    "chemicaldf = CSV.read(joinpath(@__DIR__, \"data/CaMKAR-chemical.csv\"), DataFrame)\n",
    "ts = Dates.value.(chemicaldf[!, \"Time\"]) ./ 10^9\n",
    "ctl = chemicaldf[!, \"Ctrl Mean\"]\n",
    "ctl_error = chemicaldf[!, \"Ctrl SD\"] ./ sqrt.(chemicaldf[!, \"Ctrl N\"])\n",
    "\n",
    "caf = chemicaldf[!, \"caffeine 20mM Mean\"]\n",
    "caf_error = chemicaldf[!, \"caffeine 20mM SD\"] ./ sqrt.(chemicaldf[!, \"caffeine 20mM N\"])\n",
    "\n",
    "plot(ts, ctl, yerr=ctl_error, lab=\"Control\", color=:blue, markerstrokecolor=:blue)\n",
    "plot!(ts, caf, yerr=caf_error, lab=\"Caffeine 20mM\", color=:red, markerstrokecolor=:red)\n",
    "plot!(xlabel=\"Time (s)\", ylabel=\"CaMKII activity (A.U.)\", title= \"Experiment\")"
   ],
   "metadata": {},
   "execution_count": null
  },
  {
   "outputs": [],
   "cell_type": "code",
   "source": [
    "savefig(\"caf-exp.pdf\")"
   ],
   "metadata": {},
   "execution_count": null
  },
  {
   "cell_type": "markdown",
   "source": [
    "---\n",
    "\n",
    "*This notebook was generated using [Literate.jl](https://github.com/fredrikekre/Literate.jl).*"
   ],
   "metadata": {}
  }
 ],
 "nbformat_minor": 3,
 "metadata": {
  "language_info": {
   "file_extension": ".jl",
   "mimetype": "application/julia",
   "name": "julia",
   "version": "1.11.7"
  },
  "kernelspec": {
   "name": "julia-1.11",
   "display_name": "Julia 1.11.7",
   "language": "julia"
  }
 },
 "nbformat": 4
}
