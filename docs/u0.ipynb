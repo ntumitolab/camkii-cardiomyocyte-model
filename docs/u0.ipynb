{
 "cells": [
  {
   "cell_type": "markdown",
   "source": [
    "# Initial conditions"
   ],
   "metadata": {}
  },
  {
   "outputs": [],
   "cell_type": "code",
   "source": [
    "using ModelingToolkit\n",
    "using OrdinaryDiffEq, SteadyStateDiffEq, DiffEqCallbacks\n",
    "using Plots\n",
    "using CaMKIIModel\n",
    "Plots.default(lw=2)\n",
    "\n",
    "sys = build_neonatal_ecc_sys(simplify=true, reduce_iso=true, reduce_camk=true)\n",
    "prob = SteadyStateProblem(sys, [])\n",
    "alg = DynamicSS(Rodas5P())\n",
    "\n",
    "sol = solve(prob, alg; abstol=1e-10, reltol=1e-10)\n",
    "\n",
    "for (k, v) in zip(unknowns(sys), sol.u)\n",
    "    println(k, \" => \", v, \",\")\n",
    "end"
   ],
   "metadata": {},
   "execution_count": null
  },
  {
   "cell_type": "markdown",
   "source": [
    "---\n",
    "\n",
    "*This notebook was generated using [Literate.jl](https://github.com/fredrikekre/Literate.jl).*"
   ],
   "metadata": {}
  }
 ],
 "nbformat_minor": 3,
 "metadata": {
  "language_info": {
   "file_extension": ".jl",
   "mimetype": "application/julia",
   "name": "julia",
   "version": "1.11.7"
  },
  "kernelspec": {
   "name": "julia-1.11",
   "display_name": "Julia 1.11.7",
   "language": "julia"
  }
 },
 "nbformat": 4
}
