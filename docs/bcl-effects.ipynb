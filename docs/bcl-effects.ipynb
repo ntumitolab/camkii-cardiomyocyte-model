{
 "cells": [
  {
   "cell_type": "markdown",
   "source": [
    "# Pacing response"
   ],
   "metadata": {}
  },
  {
   "outputs": [],
   "cell_type": "code",
   "source": [
    "using ModelingToolkit\n",
    "using OrdinaryDiffEq, SteadyStateDiffEq, DiffEqCallbacks\n",
    "using Plots\n",
    "using CSV\n",
    "using DataFrames\n",
    "using CaMKIIModel\n",
    "using CaMKIIModel: second\n",
    "Plots.default(lw=1.5)"
   ],
   "metadata": {},
   "execution_count": null
  },
  {
   "cell_type": "markdown",
   "source": [
    "## Setup the ODE system\n",
    "Electrical stimulation starts at `t`=100 seconds and ends at `t`=300 seconds."
   ],
   "metadata": {}
  },
  {
   "outputs": [],
   "cell_type": "code",
   "source": [
    "sys = build_neonatal_ecc_sys(simplify=true, reduce_iso=true, reduce_camk=true)\n",
    "tend = 500.0second\n",
    "prob = ODEProblem(sys, [], tend)\n",
    "stimstart = 100.0second\n",
    "stimend = 300.0second\n",
    "@unpack Istim = sys\n",
    "alg = KenCarp47()"
   ],
   "metadata": {},
   "execution_count": null
  },
  {
   "cell_type": "markdown",
   "source": [
    "## Single pulse"
   ],
   "metadata": {}
  },
  {
   "outputs": [],
   "cell_type": "code",
   "source": [
    "callback = build_stim_callbacks(Istim, stimstart + 1second; period=10second, starttime=stimstart)\n",
    "\n",
    "@time sol = solve(prob, alg; callback)"
   ],
   "metadata": {},
   "execution_count": null
  },
  {
   "outputs": [],
   "cell_type": "code",
   "source": [
    "plot(sol, idxs=(sys.t / 1000 - 100, sys.vm), title=\"Action potential (single pulse)\", ylabel=\"mV\", xlabel=\"Time (s)\", label=false, tspan=(100second, 103second))"
   ],
   "metadata": {},
   "execution_count": null
  },
  {
   "outputs": [],
   "cell_type": "code",
   "source": [
    "plot(sol, idxs=(sys.t / 1000 - 100, sys.Cai_mean), tspan=(100second, 103second), title=\"Calcium transient\", ylabel=\"Conc. (μM)\", xlabel=\"Time (s)\", label=\"Avg Ca (Model)\")"
   ],
   "metadata": {},
   "execution_count": null
  },
  {
   "outputs": [],
   "cell_type": "code",
   "source": [
    "savefig(\"single-cat.pdf\")"
   ],
   "metadata": {},
   "execution_count": null
  },
  {
   "cell_type": "markdown",
   "source": [
    "## 1Hz"
   ],
   "metadata": {}
  },
  {
   "outputs": [],
   "cell_type": "code",
   "source": [
    "callback = build_stim_callbacks(Istim, stimend; period=1second, starttime=stimstart)\n",
    "@time sol = solve(prob, alg; callback)"
   ],
   "metadata": {},
   "execution_count": null
  },
  {
   "outputs": [],
   "cell_type": "code",
   "source": [
    "plot(sol, idxs=(sys.t / 1000, sys.vm), title=\"Action potential\", ylabel=\"mV\", xlabel=\"Time (s)\", label=false)"
   ],
   "metadata": {},
   "execution_count": null
  },
  {
   "outputs": [],
   "cell_type": "code",
   "source": [
    "plot(sol, idxs=(sys.t / 1000 - 299, sys.vm), title=\"Action potential\", tspan=(299second, 300second), ylabel=\"mV\", xlabel=\"Time (s)\", label=false)"
   ],
   "metadata": {},
   "execution_count": null
  },
  {
   "outputs": [],
   "cell_type": "code",
   "source": [
    "plot(sol, idxs=(sys.t / 1000 - 299, [sys.IK1, sys.Ito, sys.IKs, sys.IKr, sys.If]), tspan=(299second, 300second), ylabel=\"μA/μF\", xlabel=\"Time (s)\", label=[\"IK1\" \"Ito\" \"IKs\" \"IKr\" \"If\"])"
   ],
   "metadata": {},
   "execution_count": null
  },
  {
   "outputs": [],
   "cell_type": "code",
   "source": [
    "plot(sol, idxs=(sys.t / 1000 - 299, [sys.ICaL, sys.INaCa, sys.ICaT, sys.ICab]), tspan=(299second, 300second), ylabel=\"μA/μF\", xlabel=\"Time (s)\", label=[\"ICaL\" \"INaCa\" \"ICaT\" \"ICab\"])"
   ],
   "metadata": {},
   "execution_count": null
  },
  {
   "outputs": [],
   "cell_type": "code",
   "source": [
    "plot(sol, idxs=(sys.t / 1000 - 299, [sys.Cai_sub_SR, sys.Cai_sub_SL, sys.Cai_mean]), tspan=(299second, 300second), title=\"Calcium transient\", ylabel=\"μM\", xlabel=\"Time (s)\", label=[\"CaSSR\" \"CaSL\" \"CaAvg\"])"
   ],
   "metadata": {},
   "execution_count": null
  },
  {
   "outputs": [],
   "cell_type": "code",
   "source": [
    "plot(sol, idxs=(sys.t / 1000, sys.CaMKAct * 100), title=\"Active CaMKII\", ylabel=\"Active CaMKII (%)\", xlabel=\"Time (s)\", label=false)"
   ],
   "metadata": {},
   "execution_count": null
  },
  {
   "cell_type": "markdown",
   "source": [
    "### 3D surface plot"
   ],
   "metadata": {}
  },
  {
   "outputs": [],
   "cell_type": "code",
   "source": [
    "xx = 1:44\n",
    "yy = range(299second, 300second, length=100)\n",
    "zz = [sol(t, idxs=sys.Cai[u]) for t in yy, u in xx]\n",
    "\n",
    "surface(xx, yy ./ 1000, zz, colorbar=:none, yguide=\"sec.\", zguide=\"Conc. (μM)\", xticks=false, size=(600, 600))\n",
    "annotate!(3, 299, 0.65, \"SL\")\n",
    "annotate!(41, 299.25, 0.58, \"SR\")"
   ],
   "metadata": {},
   "execution_count": null
  },
  {
   "outputs": [],
   "cell_type": "code",
   "source": [
    "savefig(\"3d-surface.pdf\")"
   ],
   "metadata": {},
   "execution_count": null
  },
  {
   "cell_type": "markdown",
   "source": [
    "## 2Hz"
   ],
   "metadata": {}
  },
  {
   "outputs": [],
   "cell_type": "code",
   "source": [
    "callback = build_stim_callbacks(Istim, stimend; period=1 / 2 * second, starttime=stimstart)\n",
    "@time sol2 = solve(prob, alg; callback)"
   ],
   "metadata": {},
   "execution_count": null
  },
  {
   "outputs": [],
   "cell_type": "code",
   "source": [
    "plot(sol2, idxs=(sys.t / 1000, sys.vm), title=\"Action potential\", ylabel=\"mV\", xlabel=\"Time (s)\", label=false)"
   ],
   "metadata": {},
   "execution_count": null
  },
  {
   "outputs": [],
   "cell_type": "code",
   "source": [
    "plot(sol2, idxs=(sys.t / 1000 - 299, sys.vm), title=\"Action potential\", tspan=(299second, 300second), ylabel=\"mV\", xlabel=\"Time (s)\", label=false)"
   ],
   "metadata": {},
   "execution_count": null
  },
  {
   "outputs": [],
   "cell_type": "code",
   "source": [
    "plot(sol2, idxs=(sys.t / 1000 - 299, [sys.Cai_sub_SR, sys.Cai_sub_SL, sys.Cai_mean]), tspan=(299second, 300second), title=\"Calcium transient\", ylabel=\"Concentration (μM)\", xlabel=\"Time (s)\", label=[\"CaSSR\" \"CaSL\" \"CaAvg\"])"
   ],
   "metadata": {},
   "execution_count": null
  },
  {
   "outputs": [],
   "cell_type": "code",
   "source": [
    "plot(sol2, idxs=(sys.t / 1000, sys.CaMKAct * 100), title=\"Active CaMKII\", ylabel=\"Active CaMKII (%)\", xlabel=\"Time (s)\", label=false)"
   ],
   "metadata": {},
   "execution_count": null
  },
  {
   "cell_type": "markdown",
   "source": [
    "## Comparing 1 and 2 Hz pacing"
   ],
   "metadata": {}
  },
  {
   "outputs": [],
   "cell_type": "code",
   "source": [
    "idxs = (sys.t / 1000 - 299, sys.vm)\n",
    "plot(sol, idxs=idxs, title=\"Action potential\", lab=\"1Hz\", tspan=(299second, 300second))\n",
    "plot!(sol2, idxs=idxs, lab=\"2Hz\", tspan=(299second, 300second), xlabel=\"Time (s)\", ylabel=\"Voltage (mV)\")"
   ],
   "metadata": {},
   "execution_count": null
  },
  {
   "outputs": [],
   "cell_type": "code",
   "source": [
    "savefig(\"bcl-ap.pdf\")"
   ],
   "metadata": {},
   "execution_count": null
  },
  {
   "outputs": [],
   "cell_type": "code",
   "source": [
    "idxs = (sys.t / 1000 - 299, sys.Cai_mean)\n",
    "plot(sol, idxs=idxs, title=\"Calcium transient\", lab=\"1Hz\", tspan=(299second, 300second))\n",
    "plot!(sol2, idxs=idxs, lab=\"2Hz\", tspan=(299second, 300second), xlabel=\"Time (s)\", ylabel=\"Concentration (μM)\")"
   ],
   "metadata": {},
   "execution_count": null
  },
  {
   "outputs": [],
   "cell_type": "code",
   "source": [
    "savefig(\"bcl-cat.pdf\")"
   ],
   "metadata": {},
   "execution_count": null
  },
  {
   "outputs": [],
   "cell_type": "code",
   "source": [
    "idxs = (sys.t / 1000, sys.CaMKAct * 100)\n",
    "plot(sol, idxs=idxs, title=\"CaMKII\", lab=\"1Hz\")\n",
    "plot!(sol2, idxs=idxs, lab=\"2Hz\", xlabel=\"Time (s)\", ylabel=\"Active fraction (%)\")"
   ],
   "metadata": {},
   "execution_count": null
  },
  {
   "outputs": [],
   "cell_type": "code",
   "source": [
    "savefig(\"bcl-camkact.pdf\")"
   ],
   "metadata": {},
   "execution_count": null
  },
  {
   "cell_type": "markdown",
   "source": [
    "---\n",
    "\n",
    "*This notebook was generated using [Literate.jl](https://github.com/fredrikekre/Literate.jl).*"
   ],
   "metadata": {}
  }
 ],
 "nbformat_minor": 3,
 "metadata": {
  "language_info": {
   "file_extension": ".jl",
   "mimetype": "application/julia",
   "name": "julia",
   "version": "1.11.5"
  },
  "kernelspec": {
   "name": "julia-1.11",
   "display_name": "Julia 1.11.5",
   "language": "julia"
  }
 },
 "nbformat": 4
}
