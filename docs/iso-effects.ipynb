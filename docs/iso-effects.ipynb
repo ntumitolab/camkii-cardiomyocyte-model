{
 "cells": [
  {
   "cell_type": "markdown",
   "source": [
    "# Effects of isoproterenol"
   ],
   "metadata": {}
  },
  {
   "outputs": [],
   "cell_type": "code",
   "source": [
    "using ModelingToolkit\n",
    "using OrdinaryDiffEq, SteadyStateDiffEq, DiffEqCallbacks\n",
    "using Plots\n",
    "using CSV\n",
    "using DataFrames\n",
    "using Dates\n",
    "using CaMKIIModel\n",
    "using CaMKIIModel: second, μM\n",
    "Plots.default(lw=1.5)"
   ],
   "metadata": {},
   "execution_count": null
  },
  {
   "cell_type": "markdown",
   "source": [
    "## Setup model"
   ],
   "metadata": {}
  },
  {
   "outputs": [],
   "cell_type": "code",
   "source": [
    "sys = build_neonatal_ecc_sys(simplify=true, reduce_iso=true, reduce_camk=true)\n",
    "tend = 205second\n",
    "prob = ODEProblem(sys, [], tend)\n",
    "stimstart = 30second\n",
    "stimend = 120second\n",
    "alg = KenCarp47()"
   ],
   "metadata": {},
   "execution_count": null
  },
  {
   "cell_type": "markdown",
   "source": [
    "## Without isoproterenol"
   ],
   "metadata": {}
  },
  {
   "outputs": [],
   "cell_type": "code",
   "source": [
    "@unpack Istim = sys\n",
    "callback = build_stim_callbacks(Istim, stimend; period=1second, starttime=stimstart)\n",
    "@time sol = solve(prob, alg; callback)"
   ],
   "metadata": {},
   "execution_count": null
  },
  {
   "outputs": [],
   "cell_type": "code",
   "source": [
    "i = (sys.t / 1000, sys.vm)\n",
    "plot(sol, idxs=i, tspan=(100second, 101second), title=\"Action potential\", xlabel=\"Time (s)\")"
   ],
   "metadata": {},
   "execution_count": null
  },
  {
   "outputs": [],
   "cell_type": "code",
   "source": [
    "plot(sol, idxs=(sys.t / 1000, [sys.Cai_sub_SR, sys.Cai_sub_SL, sys.Cai_mean]), tspan=(100second, 101second), title=\"Calcium transient\", xlabel=\"Time (s)\", ylabel=\"Conc. (μM)\", label=[\"Ca (SR)\" \"Ca (SL)\" \"Ca (avg)\"])"
   ],
   "metadata": {},
   "execution_count": null
  },
  {
   "outputs": [],
   "cell_type": "code",
   "source": [
    "plot(sol, idxs=(sys.t / 1000, sys.CaMKAct * 100), title=\"Active CaMKII\", label=false, ylabel=\"Active fraction (%)\", xlabel=\"Time (s)\")"
   ],
   "metadata": {},
   "execution_count": null
  },
  {
   "cell_type": "markdown",
   "source": [
    "## 0.1uM isoproterenol"
   ],
   "metadata": {}
  },
  {
   "outputs": [],
   "cell_type": "code",
   "source": [
    "prob2 = remake(prob, p=[sys.ISO => 0.1μM])\n",
    "sol2 = solve(prob2, alg; callback)"
   ],
   "metadata": {},
   "execution_count": null
  },
  {
   "outputs": [],
   "cell_type": "code",
   "source": [
    "plot(sol2, idxs=(sys.t / 1000, sys.vm), tspan=(100second, 101second), title=\"Action potential\", xlabel=\"Time (s)\")"
   ],
   "metadata": {},
   "execution_count": null
  },
  {
   "outputs": [],
   "cell_type": "code",
   "source": [
    "plot(sol2, idxs=(sys.t / 1000, [sys.Cai_sub_SR, sys.Cai_sub_SL, sys.Cai_mean]), tspan=(100second, 101second), title=\"Calcium transcient\", xlabel=\"Time (s)\", ylabel=\"Conc. (μM)\", label=[\"Ca (SR)\" \"Ca (SL)\" \"Ca (avg)\"])"
   ],
   "metadata": {},
   "execution_count": null
  },
  {
   "outputs": [],
   "cell_type": "code",
   "source": [
    "plot(sol2, idxs=(sys.t / 1000, sys.CaMKAct * 100), title=\"Active CaMKII\", label=false, ylabel=\"Active fraction (%)\", xlabel=\"Time (s)\")"
   ],
   "metadata": {},
   "execution_count": null
  },
  {
   "cell_type": "markdown",
   "source": [
    "## Comparison"
   ],
   "metadata": {}
  },
  {
   "outputs": [],
   "cell_type": "code",
   "source": [
    "i = (sys.t / 1000, sys.Cai_mean)\n",
    "tspan = (100second, 101second)\n",
    "plot(sol, idxs=i, title=\"Calcium transcient\", lab=\"ISO (-)\"; tspan)\n",
    "plot!(sol2, idxs=i, lab=\"ISO (0.1uM)\", xlabel=\"Time (s)\", ylabel=\"Concentration (μM)\"; tspan)"
   ],
   "metadata": {},
   "execution_count": null
  },
  {
   "outputs": [],
   "cell_type": "code",
   "source": [
    "savefig(\"iso-caT.pdf\")"
   ],
   "metadata": {},
   "execution_count": null
  },
  {
   "outputs": [],
   "cell_type": "code",
   "source": [
    "i = (sys.t / 1000, sys.CaMKAct * 100)\n",
    "plot(sol, idxs=i, title=\"Active CaMKII\", lab=\"ISO (-)\")\n",
    "plot!(sol2, idxs=i, lab=\"ISO (0.1uM)\", ylabel=\"Active fraction (%)\", xlabel=\"Time (s)\")"
   ],
   "metadata": {},
   "execution_count": null
  },
  {
   "outputs": [],
   "cell_type": "code",
   "source": [
    "savefig(\"iso-camkact.pdf\")"
   ],
   "metadata": {},
   "execution_count": null
  },
  {
   "outputs": [],
   "cell_type": "code",
   "source": [
    "i = (sys.t / 1000, sys.vm)\n",
    "tspan = (100second, 101second)\n",
    "plot(sol, idxs=i, title=\"Action potential\", lab=\"ISO (-)\"; tspan)\n",
    "plot!(sol2, idxs=i, lab=\"ISO (0.1uM)\", xlabel=\"Time (ms)\", ylabel=\"Voltage (mV)\"; tspan)"
   ],
   "metadata": {},
   "execution_count": null
  },
  {
   "cell_type": "markdown",
   "source": [
    "## Experimental data"
   ],
   "metadata": {}
  },
  {
   "outputs": [],
   "cell_type": "code",
   "source": [
    "chemicaldf = CSV.read(joinpath(@__DIR__, \"data/CaMKAR-chemical.csv\"), DataFrame)\n",
    "ts = Dates.value.(chemicaldf[!, \"Time\"]) ./ 10^9\n",
    "ctl = chemicaldf[!, \"Ctrl Mean\"]\n",
    "ctl_error = chemicaldf[!, \"Ctrl SD\"] ./ sqrt.(chemicaldf[!, \"Ctrl N\"])\n",
    "\n",
    "iso = chemicaldf[!, \"isoproterenol 100nM Mean\"]\n",
    "iso_error = chemicaldf[!, \"isoproterenol 100nM SD\"] ./ sqrt.(chemicaldf[!, \"isoproterenol 100nM N\"])\n",
    "\n",
    "plot(ts, ctl, yerr=ctl_error, lab=\"Control\", color=:blue, markerstrokecolor=:blue)\n",
    "plot!(ts, iso, yerr=iso_error, lab=\"ISO 100nM\", color=:red, markerstrokecolor=:red)\n",
    "plot!(xlabel=\"Time (sec.)\", ylabel=\"CaMKII activity (A.U.)\")"
   ],
   "metadata": {},
   "execution_count": null
  },
  {
   "outputs": [],
   "cell_type": "code",
   "source": [
    "savefig(\"iso-exp.pdf\")"
   ],
   "metadata": {},
   "execution_count": null
  },
  {
   "cell_type": "markdown",
   "source": [
    "---\n",
    "\n",
    "*This notebook was generated using [Literate.jl](https://github.com/fredrikekre/Literate.jl).*"
   ],
   "metadata": {}
  }
 ],
 "nbformat_minor": 3,
 "metadata": {
  "language_info": {
   "file_extension": ".jl",
   "mimetype": "application/julia",
   "name": "julia",
   "version": "1.11.4"
  },
  "kernelspec": {
   "name": "julia-1.11",
   "display_name": "Julia 1.11.4",
   "language": "julia"
  }
 },
 "nbformat": 4
}
