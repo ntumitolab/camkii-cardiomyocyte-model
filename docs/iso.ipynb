{
 "cells": [
  {
   "cell_type": "markdown",
   "metadata": {},
   "source": [
    "# Effects of isoproterenol"
   ]
  },
  {
   "cell_type": "code",
   "execution_count": 1,
   "metadata": {},
   "outputs": [],
   "source": [
    "using ModelingToolkit\n",
    "using DifferentialEquations\n",
    "using Plots\n",
    "using CaMKIIModel\n",
    "Plots.default(fmt=:png)"
   ]
  },
  {
   "cell_type": "code",
   "execution_count": null,
   "metadata": {},
   "outputs": [],
   "source": [
    "sys = build_neonatal_ecc_sys(simplify=true)\n",
    "tend = 300.0\n",
    "prob = ODEProblem(sys, [], tend)"
   ]
  },
  {
   "cell_type": "markdown",
   "metadata": {},
   "source": [
    "## No isoproterenol"
   ]
  },
  {
   "cell_type": "code",
   "execution_count": null,
   "metadata": {},
   "outputs": [],
   "source": [
    "@unpack Istim = sys\n",
    "callback = build_stim_callbacks(Istim, tend; period=1)\n",
    "alg = FBDF()"
   ]
  },
  {
   "cell_type": "code",
   "execution_count": null,
   "metadata": {},
   "outputs": [],
   "source": [
    "sol = solve(prob, alg; callback, abstol=1e-6, reltol=1e-6, maxiters=Int(1e8))"
   ]
  },
  {
   "cell_type": "code",
   "execution_count": null,
   "metadata": {},
   "outputs": [],
   "source": [
    "plot(sol, idxs=sys.PKACII/sys.RIItot, title=\"PKA activation\", lab=\"PKACII\")\n",
    "plot!(sol, idxs=sys.PKACI/sys.RItot, title=\"PKA activation\", lab=\"PKACI\")"
   ]
  },
  {
   "cell_type": "code",
   "execution_count": null,
   "metadata": {},
   "outputs": [],
   "source": [
    "plot(sol, idxs=sys.vm, tspan=(295, 300), title=\"Action potential\")"
   ]
  },
  {
   "cell_type": "code",
   "execution_count": null,
   "metadata": {},
   "outputs": [],
   "source": [
    "plot(sol, idxs=[sys.Cai_sub_SR, sys.Cai_sub_SL, sys.Cai_mean], tspan=(299, 300), title=\"Calcium transcient\")"
   ]
  },
  {
   "cell_type": "code",
   "execution_count": null,
   "metadata": {},
   "outputs": [],
   "source": [
    "plot(sol, idxs=sys.CaMKAct, title=\"Active CaMKII\")"
   ]
  },
  {
   "cell_type": "markdown",
   "metadata": {},
   "source": [
    "## 0.1uM isoproterenol"
   ]
  },
  {
   "cell_type": "code",
   "execution_count": null,
   "metadata": {},
   "outputs": [],
   "source": [
    "prob2 = remake(prob, p=[sys.ISO => 1E-4])"
   ]
  },
  {
   "cell_type": "code",
   "execution_count": null,
   "metadata": {},
   "outputs": [],
   "source": [
    "sol2 = solve(prob2, alg; callback, abstol=1e-6, reltol=1e-6, maxiters=Int(1e8))"
   ]
  },
  {
   "cell_type": "code",
   "execution_count": null,
   "metadata": {},
   "outputs": [],
   "source": [
    "plot(sol2, idxs=sys.PKACII/sys.RIItot, title=\"PKA activation\", lab=\"PKACII\")\n",
    "plot!(sol2, idxs=sys.PKACI/sys.RItot, title=\"PKA activation\", lab=\"PKACI\")"
   ]
  },
  {
   "cell_type": "code",
   "execution_count": null,
   "metadata": {},
   "outputs": [],
   "source": [
    "plot(sol2, idxs=sys.vm, tspan=(295, 300), title=\"Action potential\")"
   ]
  },
  {
   "cell_type": "code",
   "execution_count": null,
   "metadata": {},
   "outputs": [],
   "source": [
    "plot(sol2, idxs=[sys.Cai_sub_SR, sys.Cai_sub_SL, sys.Cai_mean], tspan=(299, 300), title=\"Calcium transcient\")"
   ]
  },
  {
   "cell_type": "code",
   "execution_count": null,
   "metadata": {},
   "outputs": [],
   "source": [
    "plot(sol2, idxs=sys.CaMKAct, title=\"Active CaMKII\")"
   ]
  },
  {
   "cell_type": "markdown",
   "metadata": {},
   "source": [
    "## Comparison\n",
    "\n",
    "Why the opposite effect?"
   ]
  },
  {
   "cell_type": "code",
   "execution_count": null,
   "metadata": {},
   "outputs": [],
   "source": [
    "plot(sol, idxs=sys.Cai_mean, tspan=(299, 300), title=\"Calcium transcient\", lab=\"ISO (0uM)\")\n",
    "plot!(sol2, idxs=sys.Cai_mean, tspan=(299, 300), lab=\"ISO (0.1uM)\")"
   ]
  },
  {
   "cell_type": "code",
   "execution_count": null,
   "metadata": {},
   "outputs": [],
   "source": [
    "plot(sol, idxs=sys.CaMKAct, title=\"Active CaMKII\", lab=\"ISO (0uM)\")\n",
    "plot!(sol2, idxs=sys.CaMKAct, lab=\"ISO (0.1uM)\")"
   ]
  },
  {
   "cell_type": "code",
   "execution_count": null,
   "metadata": {},
   "outputs": [],
   "source": [
    "plot(sol, idxs=sys.vm, tspan=(297, 300), title=\"Action potential\", lab=\"ISO (0uM)\")\n",
    "plot!(sol2, idxs=sys.vm, tspan=(297, 300), lab=\"ISO (0.1uM)\")"
   ]
  }
 ],
 "metadata": {
  "kernelspec": {
   "display_name": "Julia 1.10.5",
   "language": "julia",
   "name": "julia-1.10"
  },
  "language_info": {
   "file_extension": ".jl",
   "mimetype": "application/julia",
   "name": "julia",
   "version": "1.10.5"
  }
 },
 "nbformat": 4,
 "nbformat_minor": 2
}
