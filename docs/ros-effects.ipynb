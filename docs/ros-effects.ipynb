{
 "cells": [
  {
   "cell_type": "markdown",
   "source": [
    "# ROS effects"
   ],
   "metadata": {}
  },
  {
   "outputs": [],
   "cell_type": "code",
   "source": [
    "using ModelingToolkit\n",
    "using OrdinaryDiffEq, DiffEqCallbacks\n",
    "using Plots\n",
    "using CSV\n",
    "using DataFrames\n",
    "using Dates\n",
    "using CaMKIIModel\n",
    "using CaMKIIModel: second, μM\n",
    "Plots.default(lw=1.5)"
   ],
   "metadata": {},
   "execution_count": null
  },
  {
   "cell_type": "markdown",
   "source": [
    "## Setup model"
   ],
   "metadata": {}
  },
  {
   "outputs": [],
   "cell_type": "code",
   "source": [
    "sys = build_neonatal_ecc_sys(simplify=true, reduce_iso=true, reduce_camk=true)\n",
    "tend = 205second\n",
    "prob = ODEProblem(sys, [], tend)\n",
    "stimstart = 30second\n",
    "stimend = 120second\n",
    "@unpack Istim = sys\n",
    "callback = build_stim_callbacks(Istim, stimend; period=1second, starttime=stimstart)\n",
    "alg = KenCarp47()"
   ],
   "metadata": {},
   "execution_count": null
  },
  {
   "cell_type": "markdown",
   "source": [
    "## Comparisons"
   ],
   "metadata": {}
  },
  {
   "outputs": [],
   "cell_type": "code",
   "source": [
    "@time sol = solve(prob, alg; callback)"
   ],
   "metadata": {},
   "execution_count": null
  },
  {
   "cell_type": "markdown",
   "source": [
    "ROS 0.1uM"
   ],
   "metadata": {}
  },
  {
   "outputs": [],
   "cell_type": "code",
   "source": [
    "prob2 = remake(prob, p=[sys.ROS => 0.1μM])\n",
    "@time sol2 = solve(prob2, alg; callback)"
   ],
   "metadata": {},
   "execution_count": null
  },
  {
   "cell_type": "markdown",
   "source": [
    "ROS 0.5uM"
   ],
   "metadata": {}
  },
  {
   "outputs": [],
   "cell_type": "code",
   "source": [
    "prob3 = remake(prob, p=[sys.ROS => 0.5μM])\n",
    "@time sol3 = solve(prob3, alg; callback)"
   ],
   "metadata": {},
   "execution_count": null
  },
  {
   "cell_type": "markdown",
   "source": [
    "## Comparisons"
   ],
   "metadata": {}
  },
  {
   "outputs": [],
   "cell_type": "code",
   "source": [
    "i = (sys.t / 1000, sys.CaMKAct * 100)\n",
    "plot(sol, idxs=i, lab=\"ROS (-)\")\n",
    "plot!(sol2, idxs=i, lab=\"ROS 0.1uM\")\n",
    "plot!(sol3, idxs=i, lab=\"ROS 0.5uM\")\n",
    "plot!(xlabel=\"Time (s)\", ylabel=\"Active fraction (%)\", title=\"Simulation\")"
   ],
   "metadata": {},
   "execution_count": null
  },
  {
   "outputs": [],
   "cell_type": "code",
   "source": [
    "savefig(\"ros-camkii.pdf\")\n",
    "savefig(\"ros-camkii.png\")"
   ],
   "metadata": {},
   "execution_count": null
  },
  {
   "cell_type": "markdown",
   "source": [
    "Oxidized fraction"
   ],
   "metadata": {}
  },
  {
   "outputs": [],
   "cell_type": "code",
   "source": [
    "i = (sys.t / 1000, 100 * (sys.CaMKBOX + sys.CaMKPOX + sys.CaMKAOX + sys.CaMKOX ))\n",
    "plot(sol, idxs=i, lab=\"ROS (-)\")\n",
    "plot!(sol2, idxs=i, lab=\"ROS 0.1uM\")\n",
    "plot!(sol3, idxs=i, lab=\"ROS 0.5uM\")\n",
    "plot!(xlabel=\"Time (s)\", ylabel=\"Oxidized fraction (%)\", title=\"Simulation\")"
   ],
   "metadata": {},
   "execution_count": null
  },
  {
   "outputs": [],
   "cell_type": "code",
   "source": [
    "savefig(\"ros-camkiiox.pdf\")\n",
    "savefig(\"ros-camkiiox.png\")"
   ],
   "metadata": {},
   "execution_count": null
  },
  {
   "cell_type": "markdown",
   "source": [
    "Autophosphorylated fraction"
   ],
   "metadata": {}
  },
  {
   "outputs": [],
   "cell_type": "code",
   "source": [
    "i = (sys.t / 1000, 100 * (sys.CaMKP + sys.CaMKA + sys.CaMKA2))\n",
    "plot(sol, idxs=i, lab=\"ROS (-)\")\n",
    "plot!(sol2, idxs=i, lab=\"ROS 0.1uM\")\n",
    "plot!(sol3, idxs=i, lab=\"ROS 0.5uM\")\n",
    "plot!(xlabel=\"Time (s)\", ylabel=\"Phosphorylated fraction (%)\", title=\"Simulation\")"
   ],
   "metadata": {},
   "execution_count": null
  },
  {
   "outputs": [],
   "cell_type": "code",
   "source": [
    "savefig(\"ros-camkiip.pdf\")\n",
    "savefig(\"ros-camkiip.png\")"
   ],
   "metadata": {},
   "execution_count": null
  },
  {
   "cell_type": "markdown",
   "source": [
    "## Experimental data"
   ],
   "metadata": {}
  },
  {
   "outputs": [],
   "cell_type": "code",
   "source": [
    "chemicaldf = CSV.read(joinpath(@__DIR__, \"data/CaMKAR-chemical.csv\"), DataFrame)\n",
    "ts = Dates.value.(chemicaldf[!, \"Time\"]) ./ 10^9\n",
    "ctl = chemicaldf[!, \"Ctrl Mean\"]\n",
    "ctl_error = chemicaldf[!, \"Ctrl SD\"] ./ sqrt.(chemicaldf[!, \"Ctrl N\"])\n",
    "\n",
    "ros50 = chemicaldf[!, \"H2O2 50uM Mean\"]\n",
    "ros50_error = chemicaldf[!, \"H2O2 50uM SD\"] ./ sqrt.(chemicaldf[!, \"H2O2 50uM N\"])\n",
    "ros200 = chemicaldf[!, \"H2O2 200uM Mean\"]\n",
    "ros200_error = chemicaldf[!, \"H2O2 200uM SD\"] ./ sqrt.(chemicaldf[!, \"H2O2 200uM N\"])\n",
    "\n",
    "plot(ts, ctl, yerr=ctl_error, lab=\"Control\", color=:blue, markerstrokecolor=:blue)\n",
    "plot!(ts, ros50, yerr=ros50_error, lab=\"H2O2 50uM\", color=:red, markerstrokecolor=:red)\n",
    "plot!(ts, ros200, yerr=ros200_error, lab=\"H2O2 200uM\", color=:green, markerstrokecolor=:green)\n",
    "plot!(xlabel=\"Time (s)\", ylabel=\"CaMKII activity (A.U.)\", title=\"Experiment\")"
   ],
   "metadata": {},
   "execution_count": null
  },
  {
   "outputs": [],
   "cell_type": "code",
   "source": [
    "savefig(\"ros-exp.pdf\")\n",
    "savefig(\"ros-exp.png\")"
   ],
   "metadata": {},
   "execution_count": null
  },
  {
   "cell_type": "markdown",
   "source": [
    "---\n",
    "\n",
    "*This notebook was generated using [Literate.jl](https://github.com/fredrikekre/Literate.jl).*"
   ],
   "metadata": {}
  }
 ],
 "nbformat_minor": 3,
 "metadata": {
  "language_info": {
   "file_extension": ".jl",
   "mimetype": "application/julia",
   "name": "julia",
   "version": "1.11.4"
  },
  "kernelspec": {
   "name": "julia-1.11",
   "display_name": "Julia 1.11.4",
   "language": "julia"
  }
 },
 "nbformat": 4
}
