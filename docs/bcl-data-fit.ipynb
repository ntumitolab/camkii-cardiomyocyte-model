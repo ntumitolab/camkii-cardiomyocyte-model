{
 "cells": [
  {
   "cell_type": "markdown",
   "source": [
    "Pacing data fitting"
   ],
   "metadata": {}
  },
  {
   "outputs": [],
   "cell_type": "code",
   "source": [
    "using ModelingToolkit\n",
    "using OrdinaryDiffEq, SteadyStateDiffEq, DiffEqCallbacks\n",
    "using Plots\n",
    "using CSV\n",
    "using DataFrames\n",
    "using CaMKIIModel\n",
    "using CaMKIIModel: second\n",
    "Plots.default(lw=1.5)"
   ],
   "metadata": {},
   "execution_count": null
  },
  {
   "outputs": [],
   "cell_type": "code",
   "source": [
    "sys = build_neonatal_ecc_sys(simplify=true, reduce_iso=true, reduce_camk=true)\n",
    "tend = 500second\n",
    "prob = ODEProblem(sys, [], tend)\n",
    "stimstart = 100second\n",
    "stimend = 300second\n",
    "@unpack Istim = sys\n",
    "alg = KenCarp47()\n",
    "\n",
    "# Pacing duration and CaMKII activity\n",
    "durationdf = CSV.read(joinpath(@__DIR__, \"data/CaMKAR-duration.csv\"), DataFrame)\n",
    "ts = durationdf[!, \"Time(sec)\"]\n",
    "fifteen = durationdf[!, \"1Hz 15sec (Mean)\"]\n",
    "fifteen_error = durationdf[!, \"1Hz 15sec (SD)\"] ./ sqrt.(durationdf[!, \"1Hz 15sec (N)\"])\n",
    "thirty = durationdf[!, \"1Hz 30sec (Mean)\"] .+ 0.25\n",
    "thirty_error = durationdf[!, \"1Hz 30sec (SD)\"] ./ sqrt.(durationdf[!, \"1Hz 30sec (N)\"])\n",
    "sixty = durationdf[!, \"1Hz 60sec (Mean)\"]\n",
    "sixty_error = durationdf[!, \"1Hz 60sec (SD)\"] ./ sqrt.(durationdf[!, \"1Hz 60sec (N)\"])\n",
    "ninety = durationdf[!, \"1Hz 90sec (Mean)\"] .- 0.25\n",
    "ninety_error = durationdf[!, \"1Hz 90sec (SD)\"] ./ sqrt.(durationdf[!, \"1Hz 90sec (N)\"])"
   ],
   "metadata": {},
   "execution_count": null
  },
  {
   "cell_type": "markdown",
   "source": [
    "30 sec timeseries +0.25 and 90 sec timeseries -0.25 for a consistent baseline before pacing."
   ],
   "metadata": {}
  },
  {
   "outputs": [],
   "cell_type": "code",
   "source": [
    "plot(ts, fifteen, yerr=fifteen_error, lab=\"15 sec\", color=:blue, markerstrokecolor=:blue)\n",
    "plot!(ts, thirty, yerr=thirty_error, lab=\"30 sec\", color=:red, markerstrokecolor=:red)\n",
    "plot!(ts, sixty, yerr=sixty_error, lab=\"60 sec\", color=:orange, markerstrokecolor=:orange)\n",
    "plot!(ts, ninety, yerr=ninety_error, lab=\"90 sec\", color=:green, markerstrokecolor=:green)\n",
    "plot!(title=\"Experiment\", xlabel=\"Time (sec.)\", ylabel=\"CaMKII activity (AU)\")"
   ],
   "metadata": {},
   "execution_count": null
  },
  {
   "outputs": [],
   "cell_type": "code",
   "source": [
    "savefig(\"pacing-duration-exp.pdf\")\n",
    "savefig(\"pacing-duration-exp.png\")"
   ],
   "metadata": {},
   "execution_count": null
  },
  {
   "cell_type": "markdown",
   "source": [
    "Simulation"
   ],
   "metadata": {}
  },
  {
   "outputs": [],
   "cell_type": "code",
   "source": [
    "stimstart = 30second\n",
    "callback15 = build_stim_callbacks(Istim, stimstart + 15second; period=1second, starttime=stimstart)\n",
    "sol15 = solve(prob, alg; callback=callback15)\n",
    "callback30 = build_stim_callbacks(Istim, stimstart + 30second; period=1second, starttime=stimstart)\n",
    "sol30 = solve(prob, alg; callback=callback30)\n",
    "callback60 = build_stim_callbacks(Istim, stimstart + 60second; period=1second, starttime=stimstart)\n",
    "sol60 = solve(prob, alg; callback=callback60)\n",
    "callback90 = build_stim_callbacks(Istim, stimstart + 90second; period=1second, starttime=stimstart)\n",
    "sol90 = solve(prob, alg; callback=callback90)\n",
    "idxs = (sys.t / 1000, sys.CaMKAct * 100)\n",
    "\n",
    "plot(sol15, idxs=idxs, tspan=(0second, 205second), lab=\"15 sec\", color=:blue)\n",
    "plot!(sol30, idxs=idxs, tspan=(0second, 205second), lab=\"30 sec\", color=:red)\n",
    "plot!(sol60, idxs=idxs, tspan=(0second, 205second), lab=\"60 sec\", color=:orange)\n",
    "plot!(sol90, idxs=idxs, tspan=(0second, 205second), lab=\"90 sec\", color=:green)\n",
    "plot!(title=\"Simulation\", xlabel=\"Time (s)\", ylabel=\"CaMKII activity (%)\")"
   ],
   "metadata": {},
   "execution_count": null
  },
  {
   "outputs": [],
   "cell_type": "code",
   "source": [
    "savefig(\"pacing-duration-sim.pdf\")\n",
    "savefig(\"pacing-duration-sim.png\")"
   ],
   "metadata": {},
   "execution_count": null
  },
  {
   "cell_type": "markdown",
   "source": [
    "Phosphorylated fraction"
   ],
   "metadata": {}
  },
  {
   "outputs": [],
   "cell_type": "code",
   "source": [
    "idxs = (sys.t / 1000, (sys.CaMKP + sys.CaMKA + sys.CaMKA2) * 100)\n",
    "plot(sol15, idxs=idxs, tspan=(0second, 205second), lab=\"15 sec\", color=:blue)\n",
    "plot!(sol30, idxs=idxs, tspan=(0second, 205second), lab=\"30 sec\", color=:red)\n",
    "plot!(sol60, idxs=idxs, tspan=(0second, 205second), lab=\"60 sec\", color=:orange)\n",
    "plot!(sol90, idxs=idxs, tspan=(0second, 205second), lab=\"90 sec\", color=:green)\n",
    "plot!(title=\"Simulation\", xlabel=\"Time (s)\", ylabel=\"Phosphorylated CaMKII (%)\")\n",
    "\n",
    "savefig(\"pacing-duration-phos.pdf\")\n",
    "savefig(\"pacing-duration-phos.png\")"
   ],
   "metadata": {},
   "execution_count": null
  },
  {
   "cell_type": "markdown",
   "source": [
    "## Pacing frequency and CaMKII activity"
   ],
   "metadata": {}
  },
  {
   "outputs": [],
   "cell_type": "code",
   "source": [
    "freqdf = CSV.read(joinpath(@__DIR__, \"data/CaMKAR-freq.csv\"), DataFrame)\n",
    "ts = 0:5:205\n",
    "onehz = freqdf[!, \"1Hz (Mean)\"]\n",
    "onehz_error = freqdf[!, \"1Hz (SD)\"] ./ sqrt.(freqdf[!, \"1Hz (N)\"])\n",
    "twohz = freqdf[!, \"2Hz (Mean)\"]\n",
    "twohz_error = freqdf[!, \"2Hz (SD)\"] ./ sqrt.(freqdf[!, \"2Hz (N)\"])\n",
    "\n",
    "plot(ts, onehz, yerr=onehz_error, lab=\"1 Hz\", color=:blue, markerstrokecolor=:blue)\n",
    "plot!(ts, twohz, yerr=twohz_error, lab=\"2 Hz\", color=:red, markerstrokecolor=:red)\n",
    "plot!(title=\"Pacing frequency\", xlabel=\"Time (s)\", ylabel=\"CaMKII activity (AU)\")"
   ],
   "metadata": {},
   "execution_count": null
  },
  {
   "outputs": [],
   "cell_type": "code",
   "source": [
    "tend = 205.0second\n",
    "prob = ODEProblem(sys, [], tend)\n",
    "stimstart = 30.0second\n",
    "stimend = 120.0second\n",
    "callback = build_stim_callbacks(Istim, stimend; period=1second, starttime=stimstart)\n",
    "sol1 = solve(prob, alg; callback)\n",
    "\n",
    "callback2 = build_stim_callbacks(Istim, stimend; period=0.5second, starttime=stimstart)\n",
    "sol2 = solve(prob, alg; callback=callback2)\n",
    "idxs = (sys.t / 1000, sys.CaMKAct * 100)\n",
    "\n",
    "plot(sol1, idxs=idxs, lab=\"1 Hz\", color=:blue)\n",
    "plot!(sol2, idxs=idxs, lab=\"2 Hz\", color=:red)\n",
    "plot!(title=\"Pacing frequency\", xlabel=\"Time (s)\", ylabel=\"CaMKII activity (%)\")"
   ],
   "metadata": {},
   "execution_count": null
  },
  {
   "cell_type": "markdown",
   "source": [
    "---\n",
    "\n",
    "*This notebook was generated using [Literate.jl](https://github.com/fredrikekre/Literate.jl).*"
   ],
   "metadata": {}
  }
 ],
 "nbformat_minor": 3,
 "metadata": {
  "language_info": {
   "file_extension": ".jl",
   "mimetype": "application/julia",
   "name": "julia",
   "version": "1.11.7"
  },
  "kernelspec": {
   "name": "julia-1.11",
   "display_name": "Julia 1.11.7",
   "language": "julia"
  }
 },
 "nbformat": 4
}