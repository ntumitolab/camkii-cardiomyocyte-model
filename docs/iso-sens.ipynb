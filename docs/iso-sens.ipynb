{
 "cells": [
  {
   "cell_type": "markdown",
   "source": [
    "# Sensitivity to ISO"
   ],
   "metadata": {}
  },
  {
   "outputs": [],
   "cell_type": "code",
   "source": [
    "using ModelingToolkit\n",
    "using OrdinaryDiffEq, SteadyStateDiffEq, DiffEqCallbacks\n",
    "using Plots\n",
    "using LsqFit\n",
    "using CaMKIIModel\n",
    "using CaMKIIModel: μM, hil, Hz, hilr, second\n",
    "Plots.default(lw=1.5)"
   ],
   "metadata": {},
   "execution_count": null
  },
  {
   "cell_type": "markdown",
   "source": [
    "## Setup b1AR system"
   ],
   "metadata": {}
  },
  {
   "outputs": [],
   "cell_type": "code",
   "source": [
    "@parameters ATP = 5000μM ISO = 0μM\n",
    "sys = get_bar_sys(ATP, ISO; simplify=true)"
   ],
   "metadata": {},
   "execution_count": null
  },
  {
   "outputs": [],
   "cell_type": "code",
   "source": [
    "prob = SteadyStateProblem(sys, [])\n",
    "alg = DynamicSS(Rodas5P())"
   ],
   "metadata": {},
   "execution_count": null
  },
  {
   "cell_type": "markdown",
   "source": [
    "Log scale for ISO concentration"
   ],
   "metadata": {}
  },
  {
   "outputs": [],
   "cell_type": "code",
   "source": [
    "iso = exp10.(range(log10(1e-4μM), log10(1μM), length=1001))"
   ],
   "metadata": {},
   "execution_count": null
  },
  {
   "outputs": [],
   "cell_type": "code",
   "source": [
    "prob_func = (prob, i, repeat) -> remake(prob, p=[ISO => iso[i]])\n",
    "trajectories = length(iso)\n",
    "sol = solve(prob, alg; abstol=1e-10, reltol=1e-10) ## warmup\n",
    "sim = solve(EnsembleProblem(prob; prob_func, safetycopy=false), alg; trajectories, abstol=1e-10, reltol=1e-10)"
   ],
   "metadata": {},
   "execution_count": null
  },
  {
   "outputs": [],
   "cell_type": "code",
   "source": [
    "\"\"\"Extract values from ensemble simulations by a symbol\"\"\"\n",
    "extract(sim, k) = map(s -> s[k], sim)\n",
    "\"\"\"Calculate Root Mean Square Error (RMSE)\"\"\"\n",
    "rmse(fit) = sqrt(sum(abs2, fit.resid) / length(fit.resid))"
   ],
   "metadata": {},
   "execution_count": null
  },
  {
   "outputs": [],
   "cell_type": "code",
   "source": [
    "xopts = (xlims=(iso[begin], iso[end]), minorgrid=true, xscale=:log10, xlabel=\"ISO (μM)\",)\n",
    "plot(iso, extract(sim, sys.cAMP); lab=\"cAMP\", ylabel=\"Conc. (μM)\", legend=:topleft, xopts...)"
   ],
   "metadata": {},
   "execution_count": null
  },
  {
   "outputs": [],
   "cell_type": "code",
   "source": [
    "plot(iso, extract(sim, sys.PKACI / sys.RItot); lab=\"PKACI\", ylabel=\"Activation fraction\")\n",
    "plot!(iso, extract(sim, sys.PKACII / sys.RIItot), lab=\"PKACII\")\n",
    "plot!(iso, extract(sim, sys.PP1 / sys.PP1totBA), lab=\"PP1\", legend=:topleft; xopts...)"
   ],
   "metadata": {},
   "execution_count": null
  },
  {
   "cell_type": "markdown",
   "source": [
    "## Fitting active PKACI"
   ],
   "metadata": {}
  },
  {
   "outputs": [],
   "cell_type": "code",
   "source": [
    "@. model(x, p) = p[1] * x / (x + p[2]) + p[3]\n",
    "xdata = iso\n",
    "ydata = extract(sim, sys.PKACI / sys.RItot)\n",
    "p0 = [0.3, 0.01μM, 0.08]\n",
    "lb = [0.0, 0.0, 0.0]\n",
    "pkac1_fit = curve_fit(model, xdata, ydata, p0; lower=lb, autodiff=:forwarddiff)\n",
    "pkac1_coef = coef(pkac1_fit)"
   ],
   "metadata": {},
   "execution_count": null
  },
  {
   "outputs": [],
   "cell_type": "code",
   "source": [
    "println(\"PKACI\")\n",
    "println(\"Basal activity: \", pkac1_coef[3])\n",
    "println(\"Activated activity: \", pkac1_coef[1])\n",
    "println(\"Michaelis constant: \", pkac1_coef[2], \" μM\")\n",
    "println(\"RMSE: \", rmse(pkac1_fit))"
   ],
   "metadata": {},
   "execution_count": null
  },
  {
   "outputs": [],
   "cell_type": "code",
   "source": [
    "ypred = model.(xdata, Ref(pkac1_coef))\n",
    "p1 = plot(xdata, [ydata ypred], lab=[\"Full model\" \"Fitted\"], line=[:dash :dot], title=\"PKACI\", legend=:topleft; xopts...)\n",
    "p2 = plot(xdata, (ypred .- ydata) ./ ydata .* 100; title=\"PKACI error (%)\", lab=false, xopts...)\n",
    "plot(p1, p2, layout=(2, 1), size=(600, 600))"
   ],
   "metadata": {},
   "execution_count": null
  },
  {
   "cell_type": "markdown",
   "source": [
    "## Fitting active PKACII"
   ],
   "metadata": {}
  },
  {
   "outputs": [],
   "cell_type": "code",
   "source": [
    "xdata = iso\n",
    "ydata = extract(sim, sys.PKACII / sys.RIItot)\n",
    "p0 = [0.4, 0.01μM, 0.2]\n",
    "lb = [0.0, 0.0, 0.0]\n",
    "pkac2_fit = curve_fit(model, xdata, ydata, p0; lower=lb, autodiff=:forwarddiff)\n",
    "pkac2_coef = coef(pkac2_fit)"
   ],
   "metadata": {},
   "execution_count": null
  },
  {
   "outputs": [],
   "cell_type": "code",
   "source": [
    "println(\"PKACII\")\n",
    "println(\"Basal activity: \", pkac2_coef[3])\n",
    "println(\"Activated activity: \", pkac2_coef[1])\n",
    "println(\"Michaelis constant: \", pkac2_coef[2], \" μM\")\n",
    "println(\"RMSE: \", rmse(pkac2_fit))"
   ],
   "metadata": {},
   "execution_count": null
  },
  {
   "outputs": [],
   "cell_type": "code",
   "source": [
    "ypred = model.(xdata, Ref(pkac2_coef))\n",
    "p1 = plot(xdata, [ydata ypred], lab=[\"Full model\" \"Fitted\"], line=[:dash :dot], title=\"PKACII\", legend=:topleft; xopts...)\n",
    "p2 = plot(xdata, (ypred .- ydata) ./ ydata .* 100; title=\"PKACII error (%)\", lab=false, xopts...)\n",
    "plot(p1, p2, layout=(2, 1), size=(600, 600))"
   ],
   "metadata": {},
   "execution_count": null
  },
  {
   "cell_type": "markdown",
   "source": [
    "## Least-square fitting of PP1 activity"
   ],
   "metadata": {}
  },
  {
   "outputs": [],
   "cell_type": "code",
   "source": [
    "@. model_pp1(x, p) = p[1] * p[2] / (x + p[2]) + p[3]\n",
    "xdata = iso\n",
    "ydata = extract(sim, sys.PP1 / sys.PP1totBA)\n",
    "p0 = [0.1, 3e-3μM, 0.8]\n",
    "lb = [0.0, 0.0, 0.0]\n",
    "pp1_fit = curve_fit(model_pp1, xdata, ydata, p0; lower=lb, autodiff=:forwarddiff)\n",
    "pp1_coef = coef(pp1_fit)"
   ],
   "metadata": {},
   "execution_count": null
  },
  {
   "outputs": [],
   "cell_type": "code",
   "source": [
    "println(\"PP1\")\n",
    "println(\"Repressible activity: \", pp1_coef[1])\n",
    "println(\"Minimal activity: \", pp1_coef[3])\n",
    "println(\"Repressive Michaelis constant: \", pp1_coef[2], \" μM\")\n",
    "println(\"RMSE: \", rmse(pp1_fit))"
   ],
   "metadata": {},
   "execution_count": null
  },
  {
   "outputs": [],
   "cell_type": "code",
   "source": [
    "ypred = model_pp1.(xdata, Ref(pp1_coef))\n",
    "p1 = plot(xdata, [ydata ypred], lab=[\"Full model\" \"Fitted\"], line=[:dash :dot], title=\"PP1\", legend=:topright; xopts...)\n",
    "p2 = plot(xdata, (ypred .- ydata) ./ ydata .* 100; title=\"PP1 error (%)\", lab=false, xopts...)\n",
    "plot(p1, p2, layout=(2, 1), size=(600, 600))"
   ],
   "metadata": {},
   "execution_count": null
  },
  {
   "cell_type": "markdown",
   "source": [
    "## Fitting PLBp"
   ],
   "metadata": {}
  },
  {
   "outputs": [],
   "cell_type": "code",
   "source": [
    "xdata = iso\n",
    "ydata = extract(sim, sys.PLBp / sys.PLBtotBA)\n",
    "plot(xdata, ydata, title=\"PLBp fraction\", lab=false; xopts...)"
   ],
   "metadata": {},
   "execution_count": null
  },
  {
   "cell_type": "markdown",
   "source": [
    "First try: Hill function"
   ],
   "metadata": {}
  },
  {
   "outputs": [],
   "cell_type": "code",
   "source": [
    "@. model_plb(x, p) = p[1] * hil(x, p[2], p[3]) + p[4]\n",
    "p0 = [0.8, 1e-2μM, 1.0, 0.1]\n",
    "lb = [0.5, 1e-9μM, 1.0, 0.0]\n",
    "fit = curve_fit(model_plb, xdata, ydata, p0; lower=lb, autodiff=:forwarddiff)\n",
    "pestim = coef(fit)"
   ],
   "metadata": {},
   "execution_count": null
  },
  {
   "outputs": [],
   "cell_type": "code",
   "source": [
    "println(\"PLBp\")\n",
    "println(\"Basal activity: \", pestim[4])\n",
    "println(\"Activated activity: \", pestim[1])\n",
    "println(\"Michaelis constant: \", pestim[2], \" μM\")\n",
    "println(\"Hill coefficient: \", pestim[3])\n",
    "println(\"RMSE: \", rmse(fit))"
   ],
   "metadata": {},
   "execution_count": null
  },
  {
   "outputs": [],
   "cell_type": "code",
   "source": [
    "ypred = model_plb.(xdata, Ref(pestim))\n",
    "p1 = plot(xdata, [ydata ypred], lab=[\"Full model\" \"Fitted\"], line=[:dash :dot], title=\"PLBp\", legend=:topleft; xopts...)\n",
    "p2 = plot(xdata, (ypred .- ydata) ./ ydata .* 100; title=\"PLBp error (%)\", lab=false, xopts...)\n",
    "plot(p1, p2, layout=(2, 1), size=(600, 600))"
   ],
   "metadata": {},
   "execution_count": null
  },
  {
   "cell_type": "markdown",
   "source": [
    "## Fitting PLMp"
   ],
   "metadata": {}
  },
  {
   "outputs": [],
   "cell_type": "code",
   "source": [
    "xdata = iso\n",
    "ydata = extract(sim, sys.PLMp / sys.PLMtotBA)\n",
    "plot(xdata, ydata, title=\"PLMp fraction\", lab=false; xopts...)"
   ],
   "metadata": {},
   "execution_count": null
  },
  {
   "outputs": [],
   "cell_type": "code",
   "source": [
    "@. model_plm(x, p) = p[1] * hil(x, p[2], p[3]) + p[4]\n",
    "p0 = [0.8, 1e-2μM, 1.0, 0.1]\n",
    "lb = [0.5, 1e-9μM, 1.0, 0.0]\n",
    "fit = curve_fit(model_plm, xdata, ydata, p0; lower=lb, autodiff=:forwarddiff)\n",
    "pestim = coef(fit)"
   ],
   "metadata": {},
   "execution_count": null
  },
  {
   "outputs": [],
   "cell_type": "code",
   "source": [
    "println(\"PLMp\")\n",
    "println(\"Basal activity: \", pestim[4])\n",
    "println(\"Activated activity: \", pestim[1])\n",
    "println(\"Michaelis constant: \", pestim[2], \" μM\")\n",
    "println(\"Hill coefficient: \", pestim[3])\n",
    "println(\"RMSE: \", rmse(fit))"
   ],
   "metadata": {},
   "execution_count": null
  },
  {
   "outputs": [],
   "cell_type": "code",
   "source": [
    "ypred = model_plm.(xdata, Ref(pestim))\n",
    "p1 = plot(xdata, [ydata ypred], lab=[\"Full model\" \"Fitted\"], line=[:dash :dot], title=\"PLMp\", legend=:topleft; xopts...)\n",
    "p2 = plot(xdata, (ypred .- ydata) ./ ydata .* 100; title=\"PLMp error (%)\", lab=false, xopts...)\n",
    "plot(p1, p2, layout=(2, 1), size=(600, 600))"
   ],
   "metadata": {},
   "execution_count": null
  },
  {
   "cell_type": "markdown",
   "source": [
    "## Fitting TnIp"
   ],
   "metadata": {}
  },
  {
   "outputs": [],
   "cell_type": "code",
   "source": [
    "xdata = iso\n",
    "ydata = extract(sim, sys.TnIp / sys.TnItotBA)\n",
    "plot(xdata, ydata, title=\"TnIp fraction\", lab=false; xopts...)"
   ],
   "metadata": {},
   "execution_count": null
  },
  {
   "outputs": [],
   "cell_type": "code",
   "source": [
    "@. model_tni(x, p) = p[1] * hil(x, p[2], p[3]) + p[4]\n",
    "p0 = [0.8, 1e-2μM, 1.0, 0.1]\n",
    "lb = [0.1, 1e-9μM, 1.0, 0.0]\n",
    "fit = curve_fit(model_tni, xdata, ydata, p0; lower=lb, autodiff=:forwarddiff)\n",
    "pestim = coef(fit)"
   ],
   "metadata": {},
   "execution_count": null
  },
  {
   "outputs": [],
   "cell_type": "code",
   "source": [
    "println(\"TnIp\")\n",
    "println(\"Basal activity: \", pestim[4])\n",
    "println(\"Activated activity: \", pestim[1])\n",
    "println(\"Michaelis constant: \", pestim[2], \" μM\")\n",
    "println(\"Hill coefficient: \", pestim[3])\n",
    "println(\"RMSE: \", rmse(fit))"
   ],
   "metadata": {},
   "execution_count": null
  },
  {
   "outputs": [],
   "cell_type": "code",
   "source": [
    "ypred = model_tni.(xdata, Ref(pestim))\n",
    "p1 = plot(xdata, [ydata ypred], lab=[\"Full model\" \"Fitted\"], line=[:dash :dot], title=\"TnIp\", legend=:topleft; xopts...)\n",
    "p2 = plot(xdata, (ypred .- ydata) ./ ydata .* 100; title=\"TnIp error (%)\", lab=false, xopts...)\n",
    "plot(p1, p2, layout=(2, 1), size=(600, 600))"
   ],
   "metadata": {},
   "execution_count": null
  },
  {
   "cell_type": "markdown",
   "source": [
    "## Fitting LCCap"
   ],
   "metadata": {}
  },
  {
   "outputs": [],
   "cell_type": "code",
   "source": [
    "xdata = iso\n",
    "ydata = extract(sim, sys.LCCap / sys.LCCtotBA)\n",
    "plot(xdata, ydata, title=\"LCCap fraction\", lab=false; xopts...)"
   ],
   "metadata": {},
   "execution_count": null
  },
  {
   "outputs": [],
   "cell_type": "code",
   "source": [
    "@. model_lcc(x, p) = p[1] * hil(x, p[2]) + p[3]\n",
    "p0 = [0.8, 1e-2μM, 0.1]\n",
    "lb = [0.1, 1e-9μM, 0.0]\n",
    "fit = curve_fit(model_lcc, xdata, ydata, p0; lower=lb, autodiff=:forwarddiff)\n",
    "pestim = coef(fit)"
   ],
   "metadata": {},
   "execution_count": null
  },
  {
   "outputs": [],
   "cell_type": "code",
   "source": [
    "println(\"LCCap\")\n",
    "println(\"Basal activity: \", pestim[3])\n",
    "println(\"Activated activity: \", pestim[1])\n",
    "println(\"Michaelis constant: \", pestim[2], \" μM\")\n",
    "println(\"RMSE: \", rmse(fit))"
   ],
   "metadata": {},
   "execution_count": null
  },
  {
   "outputs": [],
   "cell_type": "code",
   "source": [
    "ypred = model_lcc.(xdata, Ref(pestim))\n",
    "p1 = plot(xdata, [ydata ypred], lab=[\"Full model\" \"Fitted\"], line=[:dash :dot], title=\"LCCap\", legend=:topleft; xopts...)\n",
    "p2 = plot(xdata, (ypred .- ydata) ./ ydata .* 100; title=\"LCCap error (%)\", lab=false, xopts...)\n",
    "plot(p1, p2, layout=(2, 1), size=(600, 600))"
   ],
   "metadata": {},
   "execution_count": null
  },
  {
   "cell_type": "markdown",
   "source": [
    "## Fitting LCCbp"
   ],
   "metadata": {}
  },
  {
   "outputs": [],
   "cell_type": "code",
   "source": [
    "xdata = iso\n",
    "ydata = extract(sim, sys.LCCbp / sys.LCCtotBA)\n",
    "plot(xdata, ydata, title=\"LCCbp fraction\", lab=false; xopts...)"
   ],
   "metadata": {},
   "execution_count": null
  },
  {
   "outputs": [],
   "cell_type": "code",
   "source": [
    "p0 = [0.8, 1e-2μM, 0.1]\n",
    "lb = [0.1, 1e-9μM, 0.0]\n",
    "fit = curve_fit(model_lcc, xdata, ydata, p0; lower=lb, autodiff=:forwarddiff)\n",
    "pestim = coef(fit)"
   ],
   "metadata": {},
   "execution_count": null
  },
  {
   "outputs": [],
   "cell_type": "code",
   "source": [
    "println(\"LCCbp\")\n",
    "println(\"Basal activity: \", pestim[3])\n",
    "println(\"Activated activity: \", pestim[1])\n",
    "println(\"Michaelis constant: \", pestim[2], \" μM\")\n",
    "println(\"RMSE: \", rmse(fit))"
   ],
   "metadata": {},
   "execution_count": null
  },
  {
   "outputs": [],
   "cell_type": "code",
   "source": [
    "ypred = model_lcc.(xdata, Ref(pestim))\n",
    "p1 = plot(xdata, [ydata ypred], lab=[\"Full model\" \"Fitted\"], line=[:dash :dot], title=\"LCCbp\", legend=:topleft; xopts...)\n",
    "p2 = plot(xdata, (ypred .- ydata) ./ ydata .* 100; title=\"LCCbp error (%)\", lab=false, xopts...)\n",
    "plot(p1, p2, layout=(2, 1), size=(600, 600))"
   ],
   "metadata": {},
   "execution_count": null
  },
  {
   "cell_type": "markdown",
   "source": [
    "## Fitting KURp"
   ],
   "metadata": {}
  },
  {
   "outputs": [],
   "cell_type": "code",
   "source": [
    "xdata = iso\n",
    "ydata = extract(sim, sys.KURp / sys.IKurtotBA)\n",
    "plot(xdata, ydata, title=\"LCCbp fraction\", lab=false; xopts...)"
   ],
   "metadata": {},
   "execution_count": null
  },
  {
   "outputs": [],
   "cell_type": "code",
   "source": [
    "@. model_kur(x, p) = p[1] * hil(x, p[2]) + p[3]\n",
    "p0 = [0.8, 1e-2μM, 0.1]\n",
    "lb = [0.1, 1e-9μM, 0.0]\n",
    "fit = curve_fit(model_kur, xdata, ydata, p0; lower=lb, autodiff=:forwarddiff)\n",
    "pestim = coef(fit)"
   ],
   "metadata": {},
   "execution_count": null
  },
  {
   "outputs": [],
   "cell_type": "code",
   "source": [
    "println(\"KURp\")\n",
    "println(\"Basal activity: \", pestim[3])\n",
    "println(\"Activated activity: \", pestim[1])\n",
    "println(\"Michaelis constant: \", pestim[2], \" μM\")\n",
    "println(\"RMSE: \", rmse(fit))"
   ],
   "metadata": {},
   "execution_count": null
  },
  {
   "outputs": [],
   "cell_type": "code",
   "source": [
    "ypred = model_lcc.(xdata, Ref(pestim))\n",
    "p1 = plot(xdata, [ydata ypred], lab=[\"Full model\" \"Fitted\"], line=[:dash :dot], title=\"KURp\", legend=:topleft; xopts...)\n",
    "p2 = plot(xdata, (ypred .- ydata) ./ ydata .* 100; title=\"KURp error (%)\", lab=false, xopts...)\n",
    "plot(p1, p2, layout=(2, 1), size=(600, 600))"
   ],
   "metadata": {},
   "execution_count": null
  },
  {
   "cell_type": "markdown",
   "source": [
    "## Fitting RyRp"
   ],
   "metadata": {}
  },
  {
   "outputs": [],
   "cell_type": "code",
   "source": [
    "xdata = iso\n",
    "ydata = extract(sim, sys.RyR_PKAp)\n",
    "plot(xdata, ydata, title=\"RyRp fraction\", lab=false; xopts...)"
   ],
   "metadata": {},
   "execution_count": null
  },
  {
   "outputs": [],
   "cell_type": "code",
   "source": [
    "@. model(x, p) = p[1] * x / (x + p[2]) + p[3]\n",
    "p0 = [0.3, 1e-2μM, 0.1]\n",
    "lb = [0.0, 1e-9μM, 0.0]\n",
    "fit = curve_fit(model, xdata, ydata, p0; lower=lb, autodiff=:forwarddiff)\n",
    "pestim = coef(fit)"
   ],
   "metadata": {},
   "execution_count": null
  },
  {
   "outputs": [],
   "cell_type": "code",
   "source": [
    "println(\"RyRp\")\n",
    "println(\"Basal activity: \", pestim[3])\n",
    "println(\"Activated activity: \", pestim[1])\n",
    "println(\"Michaelis constant: \", pestim[2], \" μM\")\n",
    "println(\"RMSE: \", rmse(fit))"
   ],
   "metadata": {},
   "execution_count": null
  },
  {
   "outputs": [],
   "cell_type": "code",
   "source": [
    "ypred = model.(xdata, Ref(pestim))\n",
    "p1 = plot(xdata, [ydata ypred], lab=[\"Full model\" \"Fitted\"], line=[:dash :dot], title=\"RyRp\", legend=:topleft; xopts...)\n",
    "p2 = plot(xdata, (ypred .- ydata) ./ ydata .* 100; title=\"RyRp error (%)\", lab=false, xopts...)\n",
    "plot(p1, p2, layout=(2, 1), size=(600, 600))"
   ],
   "metadata": {},
   "execution_count": null
  },
  {
   "cell_type": "markdown",
   "source": [
    "---\n",
    "\n",
    "*This notebook was generated using [Literate.jl](https://github.com/fredrikekre/Literate.jl).*"
   ],
   "metadata": {}
  }
 ],
 "nbformat_minor": 3,
 "metadata": {
  "language_info": {
   "file_extension": ".jl",
   "mimetype": "application/julia",
   "name": "julia",
   "version": "1.11.6"
  },
  "kernelspec": {
   "name": "julia-1.11",
   "display_name": "Julia 1.11.6",
   "language": "julia"
  }
 },
 "nbformat": 4
}
