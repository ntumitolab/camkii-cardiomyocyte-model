{
 "cells": [
  {
   "cell_type": "markdown",
   "metadata": {},
   "source": [
    "# Sensitivity to ISO"
   ]
  },
  {
   "cell_type": "code",
   "execution_count": 1,
   "metadata": {},
   "outputs": [],
   "source": [
    "using ModelingToolkit\n",
    "using OrdinaryDiffEq\n",
    "using DiffEqCallbacks\n",
    "using Plots\n",
    "using LsqFit\n",
    "using CaMKIIModel\n",
    "using CaMKIIModel: μM, hil, Hz, hilr\n",
    "Plots.default(lw=1.5, fmt=:png)"
   ]
  },
  {
   "cell_type": "markdown",
   "metadata": {},
   "source": [
    "## Setup b1AR system"
   ]
  },
  {
   "cell_type": "code",
   "execution_count": null,
   "metadata": {},
   "outputs": [],
   "source": [
    "@parameters ATP = 5000μM ISO = 0μM\n",
    "sys = get_bar_sys(ATP, ISO; simplify=true)"
   ]
  },
  {
   "cell_type": "code",
   "execution_count": null,
   "metadata": {},
   "outputs": [],
   "source": [
    "tend = 10000.0\n",
    "prob = ODEProblem(sys, [], tend)\n",
    "alg = Rodas5()\n",
    "callback = TerminateSteadyState()\n",
    "\n",
    "# Log scale for ISO concentration\n",
    "iso = logrange(1e-6μM, 10μM, 1001)"
   ]
  },
  {
   "cell_type": "code",
   "execution_count": null,
   "metadata": {},
   "outputs": [],
   "source": [
    "prob_func = (prob, i, repeat) -> begin\n",
    "    remake(prob, p=[ISO => iso[i]])\n",
    "end\n",
    "trajectories = length(iso)\n",
    "sol = solve(prob, alg; callback) ## warmup\n",
    "sim = solve(EnsembleProblem(prob; prob_func, safetycopy=false), alg; trajectories, callback)"
   ]
  },
  {
   "cell_type": "markdown",
   "metadata": {},
   "source": [
    "## time series\n",
    "\n",
    "It took about 1000 seconds to reach equilibrium."
   ]
  },
  {
   "cell_type": "code",
   "execution_count": null,
   "metadata": {},
   "outputs": [],
   "source": [
    "plot(sol, idxs=sys.PKACI / sys.RItot)"
   ]
  },
  {
   "cell_type": "code",
   "execution_count": null,
   "metadata": {},
   "outputs": [],
   "source": [
    "\"\"\"Extract values from ensemble simulations by a symbol\"\"\"\n",
    "extract(sim, k) = map(s -> s[k][end], sim)"
   ]
  },
  {
   "cell_type": "code",
   "execution_count": null,
   "metadata": {},
   "outputs": [],
   "source": [
    "xopts = (xlims=(iso[begin] * 1000, iso[end] * 1000), minorgrid=true, xscale=:log10, xlabel=\"ISO (μM)\",)\n",
    "\n",
    "plot(iso .* 1000, extract(sim, sys.cAMP); lab=\"cAMP\", ylabel=\"Conc. (mM)\", legend=:topleft, xopts...)"
   ]
  },
  {
   "cell_type": "code",
   "execution_count": null,
   "metadata": {},
   "outputs": [],
   "source": [
    "plot(iso .* 1000, extract(sim, sys.PKACI / sys.RItot); lab=\"PKACI\", ylabel=\"Activation fraction\")\n",
    "plot!(iso .* 1000, extract(sim, sys.PKACII / sys.RIItot), lab=\"PKACII\", legend=:topleft; xopts...)"
   ]
  },
  {
   "cell_type": "markdown",
   "metadata": {},
   "source": [
    "## Least-square fitting of PKACI activity"
   ]
  },
  {
   "cell_type": "code",
   "execution_count": null,
   "metadata": {},
   "outputs": [],
   "source": [
    "@. model(x, p) = p[1] * x / (x + p[2]) + p[3]\n",
    "xdata = iso\n",
    "ydata = extract(sim, sys.PKACI / sys.RItot)\n",
    "p0 = [0.3, 1E-5, 0.08]\n",
    "lb = [0.0, 0.0, 0.0]\n",
    "pkac1_fit = curve_fit(model, xdata, ydata, p0; lower=lb)"
   ]
  },
  {
   "cell_type": "code",
   "execution_count": null,
   "metadata": {},
   "outputs": [],
   "source": [
    "pkac1_coef = coef(pkac1_fit)"
   ]
  },
  {
   "cell_type": "code",
   "execution_count": null,
   "metadata": {},
   "outputs": [],
   "source": [
    "println(\"PKACI\")\n",
    "println(\"Basal activity: \", pkac1_coef[3])\n",
    "println(\"Maximal activity: \", pkac1_coef[1] + pkac1_coef[3])\n",
    "println(\"Michaelis constant: \", pkac1_coef[2] * 1000, \" μM\")"
   ]
  },
  {
   "cell_type": "code",
   "execution_count": null,
   "metadata": {},
   "outputs": [],
   "source": [
    "ypred = model.(xdata, Ref(pkac1_coef))\n",
    "p1 = plot(xdata .* 1000, [ydata ypred], lab=[\"Full model\" \"Fitted\"], line=[:dash :dot], title=\"PKACI\", legend=:topleft; xopts...)\n",
    "p2 = plot(xdata .* 1000, (ypred .- ydata) ./ ydata .* 100; title=\"PKACI error (%)\", lab=false, xopts...)\n",
    "plot(p1, p2, layout=(2, 1), size=(600, 600))"
   ]
  },
  {
   "cell_type": "markdown",
   "metadata": {},
   "source": [
    "## Least-square fitting of PKACII activity"
   ]
  },
  {
   "cell_type": "code",
   "execution_count": null,
   "metadata": {},
   "outputs": [],
   "source": [
    "xdata = iso\n",
    "ydata = extract(sim, sys.PKACII / sys.RIItot)\n",
    "p0 = [0.4, 0.01μM, 0.2]\n",
    "lb = [0.0, 0.0, 0.0]\n",
    "pkac2_fit = curve_fit(model, xdata, ydata, p0; lower=lb)"
   ]
  },
  {
   "cell_type": "code",
   "execution_count": null,
   "metadata": {},
   "outputs": [],
   "source": [
    "pkac2_coef = coef(pkac2_fit)"
   ]
  },
  {
   "cell_type": "code",
   "execution_count": null,
   "metadata": {},
   "outputs": [],
   "source": [
    "println(\"PKACII\")\n",
    "println(\"Basal activity: \", pkac2_coef[3])\n",
    "println(\"Maximal activity: \", pkac2_coef[1] + pkac2_coef[3])\n",
    "println(\"Michaelis constant: \", pkac2_coef[2] * 1000, \" μM\")"
   ]
  },
  {
   "cell_type": "code",
   "execution_count": null,
   "metadata": {},
   "outputs": [],
   "source": [
    "ypred = model.(xdata, Ref(pkac2_coef))\n",
    "p1 = plot(xdata .* 1000, [ydata ypred], lab=[\"Full model\" \"Fitted\"], line=[:dash :dot], title=\"PKACII\", legend=:topleft; xopts...)\n",
    "p2 = plot(xdata .* 1000, (ypred .- ydata) ./ ydata .* 100; title=\"PKACII error (%)\", lab=false, xopts...)\n",
    "plot(p1, p2, layout=(2, 1), size=(600, 600))"
   ]
  },
  {
   "cell_type": "markdown",
   "metadata": {},
   "source": [
    "## Least-square fitting of PP1 activity"
   ]
  },
  {
   "cell_type": "code",
   "execution_count": null,
   "metadata": {},
   "outputs": [],
   "source": [
    "@. model_pp1(x, p) = p[1] * p[2] / (x + p[2]) + p[3]\n",
    "xdata = iso\n",
    "ydata = extract(sim, sys.PP1 / sys.PP1tot)\n",
    "p0 = [0.1, 8e-6, 0.8]\n",
    "lb = [0.0, 0.0, 0.0]\n",
    "pp1_fit = curve_fit(model_pp1, xdata, ydata, p0; lower=lb)"
   ]
  },
  {
   "cell_type": "code",
   "execution_count": null,
   "metadata": {},
   "outputs": [],
   "source": [
    "pp1_coef = coef(pp1_fit)"
   ]
  },
  {
   "cell_type": "code",
   "execution_count": null,
   "metadata": {},
   "outputs": [],
   "source": [
    "println(\"PP1\")\n",
    "println(\"Basal activity: \", pp1_coef[1] + pp1_coef[3])\n",
    "println(\"Minimal activity: \", pp1_coef[3])\n",
    "println(\"Repressive Michaelis constant: \", pp1_coef[2] * 1000, \" μM\")"
   ]
  },
  {
   "cell_type": "code",
   "execution_count": null,
   "metadata": {},
   "outputs": [],
   "source": [
    "ypred = model_pp1.(xdata, Ref(pp1_coef))\n",
    "p1 = plot(xdata .* 1000, [ydata ypred], lab=[\"Full model\" \"Fitted\"], line=[:dash :dot], title=\"PP1\", legend=:topleft; xopts...)\n",
    "p2 = plot(xdata .* 1000, (ypred .- ydata) ./ ydata .* 100; title=\"PP1 error (%)\", lab=false, xopts...)\n",
    "plot(p1, p2, layout=(2, 1), size=(600, 600))"
   ]
  },
  {
   "cell_type": "markdown",
   "metadata": {},
   "source": [
    "## Least-square fitting of PLBp"
   ]
  },
  {
   "cell_type": "code",
   "execution_count": null,
   "metadata": {},
   "outputs": [],
   "source": [
    "xdata = iso\n",
    "ydata = extract(sim, sys.PLBp / sys.PLBtot)\n",
    "\n",
    "plot(xdata .* 1000, ydata, title=\"PLBp activity\", lab=false; xopts...)"
   ]
  },
  {
   "cell_type": "markdown",
   "metadata": {},
   "source": [
    "First try: Hill function"
   ]
  },
  {
   "cell_type": "code",
   "execution_count": null,
   "metadata": {},
   "outputs": [],
   "source": [
    "@. model_plb(x, p) = p[1] * hil(x, p[2], p[3]) + p[4]\n",
    "p0 = [0.8, 1e-5, 1.0, 0.1]\n",
    "lb = [0.5, 1e-9, 1.0, 0.0]\n",
    "fit = curve_fit(model_plb, xdata, ydata, p0; lower=lb, autodiff=:forwarddiff)"
   ]
  },
  {
   "cell_type": "code",
   "execution_count": null,
   "metadata": {},
   "outputs": [],
   "source": [
    "pestim = coef(fit)"
   ]
  },
  {
   "cell_type": "code",
   "execution_count": null,
   "metadata": {},
   "outputs": [],
   "source": [
    "ypred = model_plb.(xdata, Ref(pestim))\n",
    "p1 = plot(xdata .* 1000, [ydata ypred], lab=[\"Full model\" \"Fitted\"], line=[:dash :dot], title=\"PLBp\", legend=:topleft; xopts...)\n",
    "p2 = plot(xdata .* 1000, (ypred .- ydata) ./ ydata .* 100; title=\"PLBp error (%)\", lab=false, xopts...)\n",
    "plot(p1, p2, layout=(2, 1), size=(600, 600))"
   ]
  },
  {
   "cell_type": "markdown",
   "metadata": {},
   "source": [
    "Second try: analytic PLB from the quadratic equation"
   ]
  },
  {
   "cell_type": "code",
   "execution_count": null,
   "metadata": {},
   "outputs": [],
   "source": [
    "function plbp_analytic(iso)\n",
    "    PLBtot = 106μM\n",
    "    PKACItot = 1.18μM\n",
    "    PP1tot = 0.89μM\n",
    "    k_PKA_PLB = 54Hz\n",
    "    Km_PKA_PLB = 21μM\n",
    "    k_PP1_PLB = 8.5Hz\n",
    "    Km_PP1_PLB = 7.0μM\n",
    "    PKACI_basal = 0.0831  ## basal activity\n",
    "    PKACI_activated = 0.25603\n",
    "    PKACI_KM = 0.0144μM\n",
    "    PP1_basal = 0.82365\n",
    "    PP1_activated = 0.1025\n",
    "    PP1_KI = 0.008465μM\n",
    "\n",
    "    ## Solve for Vf * x / (x + k1) = Vr * (1 - x) / (1 - x + k2)\n",
    "    PKACI = PKACItot * (PKACI_basal + PKACI_activated * hil(iso, PKACI_KM))\n",
    "    PP1 = PP1tot * (PP1_basal + PP1_activated * hilr(iso, PP1_KI))\n",
    "\n",
    "    Vf = k_PKA_PLB * PKACI\n",
    "    k1 = Km_PKA_PLB / PLBtot\n",
    "    Vr = k_PP1_PLB * PP1\n",
    "    k2 = Km_PP1_PLB / PLBtot\n",
    "    A = 1 - (Vf / Vr)\n",
    "    B = (Vf / Vr) * (1 + k2) + (k1 - 1)\n",
    "    C = -k1\n",
    "    plb = ifelse(A ≈ 0.0, k1 / (k1 + k2), (-B + sqrt(B^2 - 4 * A * C)) / 2A)\n",
    "    plbp = 1 - plb\n",
    "end"
   ]
  },
  {
   "cell_type": "code",
   "execution_count": null,
   "metadata": {},
   "outputs": [],
   "source": [
    "ypred = plbp_analytic.(xdata)\n",
    "p1 = plot(xdata .* 1000, [ydata ypred], lab=[\"Full model\" \"Quadratic\"], line=[:dash :dot], title=\"PLBp\", legend=:topleft; xopts...)\n",
    "p2 = plot(xdata .* 1000, (ypred .- ydata) ./ ydata .* 100; title=\"PLBp error (%)\", lab=false, xopts...)\n",
    "plot(p1, p2, layout=(2, 1), size=(600, 600))"
   ]
  }
 ],
 "metadata": {
  "kernelspec": {
   "display_name": "Julia 1.11.1",
   "language": "julia",
   "name": "julia-1.11"
  },
  "language_info": {
   "file_extension": ".jl",
   "mimetype": "application/julia",
   "name": "julia",
   "version": "1.11.1"
  }
 },
 "nbformat": 4,
 "nbformat_minor": 2
}
