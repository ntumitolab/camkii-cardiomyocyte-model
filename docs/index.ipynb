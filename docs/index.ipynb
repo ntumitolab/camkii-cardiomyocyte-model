{
 "cells": [
  {
   "cell_type": "markdown",
   "metadata": {},
   "source": [
    "# CaMKII cardiomyocyte model\n",
    "\n",
    "- https://github.com/drgrandilab/Morotti-et-al-2014-Mouse-Ventricular-Model\n",
    "- https://github.com/ntumitolab/Hopkins-CaMKII (private repo)\n",
    "\n",
    "Moritti et al. (2014) cardiomyocyte model\n",
    "\n",
    "Reference:\n",
    "\n",
    "S. Morotti, A.G. Edwards, A.D. McCulloch, D.M. Bers, E. Grandi.\n",
    "A novel computational model of mouse myocyte electrophysiology to assess the synergy\n",
    "between Na+ loading and CaMKII.\n",
    "J Physiol. 2014 Mar 15;592(6):1181-97.\n",
    "doi: https://doi.org/10.1113/jphysiol.2013.266676\n",
    "\n",
    "## Runtime information"
   ]
  },
  {
   "cell_type": "code",
   "execution_count": null,
   "metadata": {},
   "outputs": [],
   "source": [
    "using InteractiveUtils\n",
    "InteractiveUtils.versioninfo()"
   ]
  },
  {
   "cell_type": "code",
   "execution_count": null,
   "metadata": {},
   "outputs": [],
   "source": [
    "using Pkg\n",
    "Pkg.status()"
   ]
  }
 ],
 "metadata": {
  "kernelspec": {
   "display_name": "Julia 1.11.1",
   "language": "julia",
   "name": "julia-1.11"
  },
  "language_info": {
   "name": "julia"
  }
 },
 "nbformat": 4,
 "nbformat_minor": 2
}
