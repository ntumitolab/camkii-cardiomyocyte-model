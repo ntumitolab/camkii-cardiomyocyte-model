{
 "cells": [
  {
   "cell_type": "markdown",
   "metadata": {},
   "source": [
    "# Sensitivity of CaMKII system to calcium"
   ]
  },
  {
   "cell_type": "code",
   "execution_count": 1,
   "metadata": {},
   "outputs": [],
   "source": [
    "using ModelingToolkit\n",
    "using OrdinaryDiffEq\n",
    "using DiffEqCallbacks\n",
    "using Plots\n",
    "using LsqFit\n",
    "using CaMKIIModel\n",
    "using CaMKIIModel: μM, hil\n",
    "Plots.default(lw=1.5, fmt=:png)"
   ]
  },
  {
   "cell_type": "markdown",
   "metadata": {},
   "source": [
    "## Setup CaMKII system\n",
    "\n",
    "Model CaM/Calcium binding only. NO phosphorylation or oxidation."
   ]
  },
  {
   "cell_type": "code",
   "execution_count": null,
   "metadata": {},
   "outputs": [],
   "source": [
    "@parameters Ca = 0μM ROS = 0μM\n",
    "sys = get_camkii_sys(Ca; ROS, phospho_rate=0, simplify=true)"
   ]
  },
  {
   "cell_type": "code",
   "execution_count": null,
   "metadata": {},
   "outputs": [],
   "source": [
    "tend = 10000.0\n",
    "prob = ODEProblem(sys, [], tend)\n",
    "alg = Rodas5()\n",
    "callback = TerminateSteadyState()\n",
    "ca = exp10.(range(log10(1e-2μM), log10(10μM), length=1001))\n",
    "prob_func = (prob, i, repeat) -> begin\n",
    "    remake(prob, p=[Ca => ca[i]])\n",
    "end\n",
    "trajectories = length(ca)\n",
    "sol0 = solve(remake(prob, p=[Ca => 0.0]), alg; callback) ## warmup\n",
    "sim = solve(EnsembleProblem(prob; prob_func, safetycopy=false), alg; trajectories, callback)"
   ]
  },
  {
   "cell_type": "code",
   "execution_count": null,
   "metadata": {},
   "outputs": [],
   "source": [
    "\"\"\"Extract values from ensemble simulations by a symbol\"\"\"\n",
    "extract(sim, k) = map(s -> s[k][end], sim)"
   ]
  },
  {
   "cell_type": "markdown",
   "metadata": {},
   "source": [
    "Components"
   ]
  },
  {
   "cell_type": "code",
   "execution_count": null,
   "metadata": {},
   "outputs": [],
   "source": [
    "plot(ca .* 1000, extract(sim, sys.CaM0), lab=\"CaM0\", ylabel=\"Conc. (mM)\", xlabel=\"Ca (μM)\", xscale=:log10, minorgrid=true, xlims=(1e-2, 10))\n",
    "plot!(ca .* 1000, extract(sim, sys.Ca2CaM_C), lab=\"Ca2CaM_C\")\n",
    "plot!(ca .* 1000, extract(sim, sys.Ca2CaM_N), lab=\"Ca2CaM_N\")\n",
    "plot!(ca .* 1000, extract(sim, sys.Ca4CaM), lab=\"Ca4CaM\")\n",
    "plot!(ca .* 1000, extract(sim, sys.CaMK), lab=\"CaMK\")\n",
    "plot!(ca .* 1000, extract(sim, sys.CaM0_CaMK), lab=\"CaM0_CaMK\")\n",
    "plot!(ca .* 1000, extract(sim, sys.Ca2CaM_C_CaMK), lab=\"Ca2CaM_C_CaMK\")\n",
    "plot!(ca .* 1000, extract(sim, sys.Ca2CaM_N_CaMK), lab=\"Ca2CaM_N_CaMK\")\n",
    "plot!(ca .* 1000, extract(sim, sys.Ca4CaM_CaMK), lab=\"Ca4CaM_CaMK\", legend=:topleft, size=(800, 600))"
   ]
  },
  {
   "cell_type": "code",
   "execution_count": null,
   "metadata": {},
   "outputs": [],
   "source": [
    "println(\"Basal activity without ca is \", sol0[sys.CaMKAct][end])\n",
    "plot(ca .* 1000, extract(sim, sys.CaMKAct), label=false, title=\"Active CaMKII\", xlabel=\"Ca (μM)\", xscale=:log10, minorgrid=true, xlims=(1e-2, 10))"
   ]
  },
  {
   "cell_type": "markdown",
   "metadata": {},
   "source": [
    "## Least-square fitting of steady state CaMKII activity"
   ]
  },
  {
   "cell_type": "code",
   "execution_count": null,
   "metadata": {},
   "outputs": [],
   "source": [
    "@. model_camk(x, p) = p[1] * hil(x, p[2], p[4]) + p[3]\n",
    "xdata = ca\n",
    "ydata = extract(sim, sys.CaMKAct)\n",
    "p0 = [0.4, 1e-3, 0.019, 2.2]\n",
    "lb = [0.0, 1e-9, 0.0, 1.0]\n",
    "fit = curve_fit(model_camk, xdata, ydata, p0; lower=lb, autodiff=:forwarddiff)"
   ]
  },
  {
   "cell_type": "code",
   "execution_count": null,
   "metadata": {},
   "outputs": [],
   "source": [
    "pestim = coef(fit)"
   ]
  },
  {
   "cell_type": "code",
   "execution_count": null,
   "metadata": {},
   "outputs": [],
   "source": [
    "# Loss value\n",
    "sum(abs2, fit.resid)"
   ]
  },
  {
   "cell_type": "code",
   "execution_count": null,
   "metadata": {},
   "outputs": [],
   "source": [
    "yestim = model_camk.(xdata, Ref(pestim))\n",
    "opts = (minorgrid=true, xlims=(1e-2, 10), xscale=:log10)\n",
    "\n",
    "p1 = plot(xdata .* 1000, [ydata yestim], lab=[\"Full model\" \"Fitted\"], line=[:dash :dot], title=\"CaMKII activity\", legend=:topleft; opts...)\n",
    "p2 = plot(xdata .* 1000, (yestim .- ydata) ./ ydata .* 100, title=\"Relative error (%)\", xlabel=\"Ca (μM)\", lab=false; opts...)\n",
    "plot(p1, p2, layout=(2, 1), size=(600, 600))"
   ]
  },
  {
   "cell_type": "markdown",
   "metadata": {},
   "source": [
    "## Least-square fitting of kinetic CaMKII activity\n",
    "\n",
    "Finding the Keq for the reaction: CaM + CaMK + 4Ca <---> CaMCa4_CaMKII"
   ]
  },
  {
   "cell_type": "code",
   "execution_count": null,
   "metadata": {},
   "outputs": [],
   "source": [
    "xdata = ca\n",
    "ydata = extract(sim, sys.CaMKAct)\n",
    "\n",
    "function model(x, p)\n",
    "    A = 30μM\n",
    "    B = 70μM\n",
    "    hcoef = p[5]\n",
    "    kmca = p[1]\n",
    "    khill = p[2]\n",
    "    kca = p[3]\n",
    "    k0 = p[4]\n",
    "    y = map(x) do ca\n",
    "        keq = khill * hil(ca, kmca, hcoef) + kca * ca + k0\n",
    "        xterm = A + B + 1 / keq\n",
    "        camkcam4 = 0.5 * (xterm - sqrt(xterm^2 - 4 * A * B))\n",
    "        y = camkcam4 / B\n",
    "    end\n",
    "end"
   ]
  },
  {
   "cell_type": "code",
   "execution_count": null,
   "metadata": {},
   "outputs": [],
   "source": [
    "p0 = [1μM, 1e7, 1000.0, 0.1, 2.7]\n",
    "lb = [0.0, 0.0, 0.0, 0.0, 1.0]\n",
    "fit = curve_fit(model, xdata, ydata, inv.(xdata), p0; lower=lb, autodiff=:forwarddiff)"
   ]
  },
  {
   "cell_type": "code",
   "execution_count": null,
   "metadata": {},
   "outputs": [],
   "source": [
    "pestim = coef(fit)"
   ]
  },
  {
   "cell_type": "code",
   "execution_count": null,
   "metadata": {},
   "outputs": [],
   "source": [
    "# Loss value\n",
    "sum(abs2, fit.resid)"
   ]
  },
  {
   "cell_type": "markdown",
   "metadata": {},
   "source": [
    "Fit result"
   ]
  },
  {
   "cell_type": "code",
   "execution_count": null,
   "metadata": {},
   "outputs": [],
   "source": [
    "yestim = model.(xdata, Ref(pestim))\n",
    "p1 = plot(xdata .* 1000, [ydata yestim], lab=[\"Full model\" \"Fitted\"], line=[:dash :dot], title=\"CaMKII activity\"; opts...)\n",
    "p2 = plot(xdata .* 1000, (yestim .- ydata) ./ ydata .* 100, xlabel=\"Ca (μM)\", title=\"Relative error (%)\", lab=false, yticks=-6:6; opts...)\n",
    "plot(p1, p2, layout=(2, 1), size=(600, 600))"
   ]
  },
  {
   "cell_type": "markdown",
   "metadata": {},
   "source": []
  }
 ],
 "metadata": {
  "kernelspec": {
   "display_name": "Julia 1.11.1",
   "language": "julia",
   "name": "julia-1.11"
  },
  "language_info": {
   "file_extension": ".jl",
   "mimetype": "application/julia",
   "name": "julia",
   "version": "1.11.1"
  }
 },
 "nbformat": 4,
 "nbformat_minor": 2
}
