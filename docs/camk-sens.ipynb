{
 "cells": [
  {
   "cell_type": "markdown",
   "source": [
    "# CaMKII system analysis"
   ],
   "metadata": {}
  },
  {
   "outputs": [],
   "cell_type": "code",
   "source": [
    "using ModelingToolkit\n",
    "using OrdinaryDiffEq, SteadyStateDiffEq, DiffEqCallbacks\n",
    "using Plots\n",
    "using LsqFit\n",
    "using CaMKIIModel\n",
    "using CaMKIIModel: μM, hil, second, Hz\n",
    "Plots.default(lw=1.5)"
   ],
   "metadata": {},
   "execution_count": null
  },
  {
   "cell_type": "markdown",
   "source": [
    "## CaMKII sensitivity to calcium\n",
    "Model CaM/Calcium binding only. No phosphorylation or oxidation."
   ],
   "metadata": {}
  },
  {
   "outputs": [],
   "cell_type": "code",
   "source": [
    "@parameters Ca = 0μM ROS = 0μM\n",
    "sys = get_camkii_sys(Ca; ROS, simplify=true)"
   ],
   "metadata": {},
   "execution_count": null
  },
  {
   "outputs": [],
   "cell_type": "code",
   "source": [
    "prob = SteadyStateProblem(sys, [sys.k_phosCaM => 0])\n",
    "alg = DynamicSS(Rodas5P())\n",
    "\n",
    "ca = exp10.(range(log10(0.03μM), log10(10μM), 1001))\n",
    "prob_func = (prob, i, repeat) -> begin\n",
    "    remake(prob, p=[Ca => ca[i]])\n",
    "end\n",
    "trajectories = length(ca)\n",
    "sol0 = solve(prob, alg; abstol=1e-10, reltol=1e-10) ## warmup\n",
    "sim = solve(EnsembleProblem(prob; prob_func, safetycopy=false), alg; trajectories, abstol=1e-10, reltol=1e-10)"
   ],
   "metadata": {},
   "execution_count": null
  },
  {
   "outputs": [],
   "cell_type": "code",
   "source": [
    "\"\"\"Extract values from ensemble simulations by a symbol\"\"\"\n",
    "extract(sim, k) = map(s -> s[k], sim)\n",
    "\"\"\"Calculate Root Mean Square Error (RMSE)\"\"\"\n",
    "rmse(fit) = sqrt(sum(abs2, fit.resid) / length(fit.resid))"
   ],
   "metadata": {},
   "execution_count": null
  },
  {
   "cell_type": "markdown",
   "source": [
    "Components"
   ],
   "metadata": {}
  },
  {
   "outputs": [],
   "cell_type": "code",
   "source": [
    "xopts = (xlabel=\"Ca (μM)\", xscale=:log10, minorgrid=true, xlims=(ca[1], ca[end]))\n",
    "plot(ca, extract(sim, sys.CaM0), lab=\"CaM0\", ylabel=\"Conc. (μM)\"; xopts...)\n",
    "plot!(ca, extract(sim, sys.Ca2CaM_C), lab=\"Ca2CaM_C\")\n",
    "plot!(ca, extract(sim, sys.Ca2CaM_N), lab=\"Ca2CaM_N\")\n",
    "plot!(ca, extract(sim, sys.Ca4CaM), lab=\"Ca4CaM\")\n",
    "plot!(ca, extract(sim, sys.CaMK), lab=\"CaMK\")\n",
    "plot!(ca, extract(sim, sys.CaM0_CaMK), lab=\"CaM0_CaMK\")\n",
    "plot!(ca, extract(sim, sys.Ca2CaM_C_CaMK), lab=\"Ca2CaM_C_CaMK\")\n",
    "plot!(ca, extract(sim, sys.Ca2CaM_N_CaMK), lab=\"Ca2CaM_N_CaMK\")\n",
    "plot!(ca, extract(sim, sys.Ca4CaM_CaMK), lab=\"Ca4CaM_CaMK\", legend=:topleft)"
   ],
   "metadata": {},
   "execution_count": null
  },
  {
   "cell_type": "markdown",
   "source": [
    "We excluded CaM0_CaMK (bound but lost all calcium) from the active CaMKII fraction"
   ],
   "metadata": {}
  },
  {
   "outputs": [],
   "cell_type": "code",
   "source": [
    "CaMKAct = 1 - (sys.CaMK + sys.CaM0_CaMK) / sys.CAMKII_T\n",
    "println(\"Basal activity without ca is \", sol0[CaMKAct][end])\n",
    "xdata = ca\n",
    "ydata = extract(sim, CaMKAct)\n",
    "plot(xdata, ydata, label=false, title=\"Active CaMKII\", ylims=(0, 0.5); xopts...)"
   ],
   "metadata": {},
   "execution_count": null
  },
  {
   "cell_type": "markdown",
   "source": [
    "## Least-square fitting of steady state CaMKII activity"
   ],
   "metadata": {}
  },
  {
   "outputs": [],
   "cell_type": "code",
   "source": [
    "@. model_camk(x, p) = p[1] * hil(x, p[2], p[4]) + p[3]\n",
    "p0 = [0.4, 1μM, 0.0, 2.0]\n",
    "lb = [0.0, 0.001μM, 0.0, 1.0]\n",
    "fit = curve_fit(model_camk, xdata, ydata, p0; lower=lb, autodiff=:forwarddiff)"
   ],
   "metadata": {},
   "execution_count": null
  },
  {
   "cell_type": "markdown",
   "source": [
    "Parameters"
   ],
   "metadata": {}
  },
  {
   "outputs": [],
   "cell_type": "code",
   "source": [
    "pestim = coef(fit)"
   ],
   "metadata": {},
   "execution_count": null
  },
  {
   "outputs": [],
   "cell_type": "code",
   "source": [
    "println(\"Basal activity: \", pestim[3])\n",
    "println(\"Maximal activated activity: \", pestim[1])\n",
    "println(\"Half-saturation Ca concentration: \", pestim[2], \" μM\")\n",
    "println(\"Hill coefficient: \", pestim[4])\n",
    "println(\"RMSE: \", rmse(fit))"
   ],
   "metadata": {},
   "execution_count": null
  },
  {
   "cell_type": "markdown",
   "source": [
    "Fit result and the original model"
   ],
   "metadata": {}
  },
  {
   "outputs": [],
   "cell_type": "code",
   "source": [
    "yestim = model_camk.(xdata, Ref(pestim))\n",
    "\n",
    "p1 = plot(xdata, [ydata yestim], lab=[\"Full model\" \"Fitted\"], line=[:dash :dot], title=\"CaMKII activity\", legend=:topleft; xopts...)"
   ],
   "metadata": {},
   "execution_count": null
  },
  {
   "cell_type": "markdown",
   "source": [
    "## The simplified CaMKII system"
   ],
   "metadata": {}
  },
  {
   "outputs": [],
   "cell_type": "code",
   "source": [
    "simpsys = CaMKIIModel.get_camkii_simp_sys(Ca; ROS, simplify=true)"
   ],
   "metadata": {},
   "execution_count": null
  },
  {
   "cell_type": "markdown",
   "source": [
    "## Comparing original and simplified model"
   ],
   "metadata": {}
  },
  {
   "outputs": [],
   "cell_type": "code",
   "source": [
    "sys = build_neonatal_ecc_sys(simplify=true, reduce_iso=true)\n",
    "sys_simp = build_neonatal_ecc_sys(simplify=true, reduce_iso=true, reduce_camk=true)\n",
    "\n",
    "println(\"# of state variable in the original model: \", length(unknowns(sys)))\n",
    "println(\"# of state variable in the simplified model: \", length(unknowns(sys_simp)))"
   ],
   "metadata": {},
   "execution_count": null
  },
  {
   "outputs": [],
   "cell_type": "code",
   "source": [
    "tend = 500.0second\n",
    "stimstart = 100.0second\n",
    "stimend = 300.0second\n",
    "alg = KenCarp47()\n",
    "@unpack Istim = sys\n",
    "callback = build_stim_callbacks(Istim, stimend; period=1second, starttime=stimstart)\n",
    "prob = ODEProblem(sys, [], tend);\n",
    "prob_simp = ODEProblem(sys_simp, [sys_simp.kphos_CaMK => 5Hz], tend);"
   ],
   "metadata": {},
   "execution_count": null
  },
  {
   "outputs": [],
   "cell_type": "code",
   "source": [
    "@time sol = solve(prob, alg; callback)\n",
    "@time sol_simp = solve(prob_simp, alg; callback)\n",
    "\n",
    "plot(sol, idxs=sys.CaMKAct, label=\"Full model\", title=\"Active CaMKII\")\n",
    "plot!(sol_simp, idxs=sys_simp.CaMKAct, label=\"Simplified model\", xlabel=\"Time (ms)\")"
   ],
   "metadata": {},
   "execution_count": null
  },
  {
   "outputs": [],
   "cell_type": "code",
   "source": [
    "@unpack CaMKB, CaMKP, CaMKA, CaMKA2, CaMK = sys_simp\n",
    "plot(sol_simp, idxs=[CaMKB, CaMKP, CaMKA, CaMKA2, CaMK], legend=:right)"
   ],
   "metadata": {},
   "execution_count": null
  },
  {
   "outputs": [],
   "cell_type": "code",
   "source": [
    "plot(sol, idxs=sys.CaMKAct, label=\"Full model\", title=\"Active CaMKII\")\n",
    "plot!(sol_simp, idxs=sys_simp.CaMKAct, label=\"Simplified model\", xlabel=\"Time (ms)\", tspan=(295second, 300.0second))"
   ],
   "metadata": {},
   "execution_count": null
  },
  {
   "cell_type": "markdown",
   "source": [
    "---\n",
    "\n",
    "*This notebook was generated using [Literate.jl](https://github.com/fredrikekre/Literate.jl).*"
   ],
   "metadata": {}
  }
 ],
 "nbformat_minor": 3,
 "metadata": {
  "language_info": {
   "file_extension": ".jl",
   "mimetype": "application/julia",
   "name": "julia",
   "version": "1.11.5"
  },
  "kernelspec": {
   "name": "julia-1.11",
   "display_name": "Julia 1.11.5",
   "language": "julia"
  }
 },
 "nbformat": 4
}
